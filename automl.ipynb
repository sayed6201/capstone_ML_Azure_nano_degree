{
 "cells": [
  {
   "cell_type": "markdown",
   "metadata": {},
   "source": [
    "# Automated ML\n",
    "\n",
    "TODO: Import Dependencies. In the cell below, import all the dependencies that you will need to complete the project."
   ]
  },
  {
   "cell_type": "code",
   "execution_count": 61,
   "metadata": {
    "gather": {
     "logged": 1598423888013
    },
    "jupyter": {
     "outputs_hidden": false,
     "source_hidden": false
    },
    "nteract": {
     "transient": {
      "deleting": false
     }
    }
   },
   "outputs": [],
   "source": [
    "from azureml.core.experiment import Experiment\n",
    "from azureml.core.workspace import Workspace\n",
    "\n",
    "#dependecies for compute cluster\n",
    "from azureml.core.compute import AmlCompute\n",
    "from azureml.core.compute import ComputeTarget\n",
    "from azureml.core.compute_target import ComputeTargetException\n",
    "\n",
    "#dataset dependencies\n",
    "from azureml.core import Dataset\n",
    "from sklearn.model_selection import train_test_split\n",
    "\n",
    "#automl dependencies\n",
    "from azureml.train.automl import AutoMLConfig\n",
    "from azureml.widgets import RunDetails\n",
    "\n",
    "#dependecy for model deployment\n",
    "from azureml.core.model import InferenceConfig, Model\n",
    "from azureml.core.webservice import AciWebservice, Webservice\n"
   ]
  },
  {
   "cell_type": "code",
   "execution_count": 4,
   "metadata": {
    "gather": {
     "logged": 1598423890461
    },
    "jupyter": {
     "outputs_hidden": false,
     "source_hidden": false
    },
    "nteract": {
     "transient": {
      "deleting": false
     }
    }
   },
   "outputs": [
    {
     "name": "stdout",
     "output_type": "stream",
     "text": [
      "quick-starts-ws-137297\n",
      "aml-quickstarts-137297\n",
      "southcentralus\n",
      "3d1a56d2-7c81-4118-9790-f85d1acf0c77\n"
     ]
    }
   ],
   "source": [
    "ws = Workspace.from_config()\n",
    "print(ws.name, ws.resource_group, ws.location, ws.subscription_id, sep = '\\n')"
   ]
  },
  {
   "cell_type": "code",
   "execution_count": 5,
   "metadata": {},
   "outputs": [
    {
     "data": {
      "text/html": [
       "<table style=\"width:100%\"><tr><th>Name</th><th>Workspace</th><th>Report Page</th><th>Docs Page</th></tr><tr><td>heart-failure-exp-sayed</td><td>quick-starts-ws-137297</td><td><a href=\"https://ml.azure.com/experiments/heart-failure-exp-sayed?wsid=/subscriptions/3d1a56d2-7c81-4118-9790-f85d1acf0c77/resourcegroups/aml-quickstarts-137297/workspaces/quick-starts-ws-137297\" target=\"_blank\" rel=\"noopener\">Link to Azure Machine Learning studio</a></td><td><a href=\"https://docs.microsoft.com/en-us/python/api/azureml-core/azureml.core.experiment.Experiment?view=azure-ml-py\" target=\"_blank\" rel=\"noopener\">Link to Documentation</a></td></tr></table>"
      ],
      "text/plain": [
       "Experiment(Name: heart-failure-exp-sayed,\n",
       "Workspace: quick-starts-ws-137297)"
      ]
     },
     "execution_count": 5,
     "metadata": {},
     "output_type": "execute_result"
    }
   ],
   "source": [
    "experiment_name = 'heart-failure-exp-sayed'\n",
    "experiment=Experiment(ws, experiment_name)\n",
    "project_folder = './heart-failure-project'\n",
    "experiment"
   ]
  },
  {
   "cell_type": "markdown",
   "metadata": {},
   "source": [
    "## Compute cluster creation\n"
   ]
  },
  {
   "cell_type": "code",
   "execution_count": 12,
   "metadata": {},
   "outputs": [
    {
     "name": "stdout",
     "output_type": "stream",
     "text": [
      "Creating\n",
      "Succeeded................................\n",
      "AmlCompute wait for completion finished\n",
      "\n",
      "Wait timeout has been reached\n",
      "Current provisioning state of AmlCompute is \"Succeeded\" and current node count is \"0\"\n"
     ]
    }
   ],
   "source": [
    "# Choosing a name for the CPU cluster\n",
    "amlcompute_cluster_name = \"sayed-cluster2\"\n",
    "\n",
    "# Verify that cluster does not exist already\n",
    "try:\n",
    "    compute_target = ComputeTarget(workspace=ws, name=amlcompute_cluster_name)\n",
    "    print('Found existing cluster, use it.')\n",
    "except ComputeTargetException:\n",
    "    compute_config = AmlCompute.provisioning_configuration(vm_size='STANDARD_D2_V2',# for GPU, use \"STANDARD_NC6\"\n",
    "                                                           #vm_priority = 'lowpriority', # optional\n",
    "                                                           max_nodes=4)\n",
    "    compute_target = ComputeTarget.create(ws, amlcompute_cluster_name, compute_config)\n",
    "\n",
    "compute_target.wait_for_completion(show_output=True, min_node_count = 1, timeout_in_minutes = 3)\n"
   ]
  },
  {
   "cell_type": "markdown",
   "metadata": {},
   "source": [
    "## Dataset\n",
    "\n",
    "### Overview\n",
    "TODO: In this markdown cell, give an overview of the dataset you are using. Also mention the task you will be performing.\n",
    "\n",
    "\n",
    "TODO: Get data. In the cell below, write code to access the data you will be using in this project. Remember that the dataset needs to be external."
   ]
  },
  {
   "cell_type": "code",
   "execution_count": 15,
   "metadata": {},
   "outputs": [
    {
     "data": {
      "text/html": [
       "<div>\n",
       "<style scoped>\n",
       "    .dataframe tbody tr th:only-of-type {\n",
       "        vertical-align: middle;\n",
       "    }\n",
       "\n",
       "    .dataframe tbody tr th {\n",
       "        vertical-align: top;\n",
       "    }\n",
       "\n",
       "    .dataframe thead th {\n",
       "        text-align: right;\n",
       "    }\n",
       "</style>\n",
       "<table border=\"1\" class=\"dataframe\">\n",
       "  <thead>\n",
       "    <tr style=\"text-align: right;\">\n",
       "      <th></th>\n",
       "      <th>age</th>\n",
       "      <th>anaemia</th>\n",
       "      <th>creatinine_phosphokinase</th>\n",
       "      <th>diabetes</th>\n",
       "      <th>ejection_fraction</th>\n",
       "      <th>high_blood_pressure</th>\n",
       "      <th>platelets</th>\n",
       "      <th>serum_creatinine</th>\n",
       "      <th>serum_sodium</th>\n",
       "      <th>sex</th>\n",
       "      <th>smoking</th>\n",
       "      <th>time</th>\n",
       "      <th>DEATH_EVENT</th>\n",
       "    </tr>\n",
       "  </thead>\n",
       "  <tbody>\n",
       "    <tr>\n",
       "      <th>count</th>\n",
       "      <td>299.000000</td>\n",
       "      <td>299.000000</td>\n",
       "      <td>299.000000</td>\n",
       "      <td>299.000000</td>\n",
       "      <td>299.000000</td>\n",
       "      <td>299.000000</td>\n",
       "      <td>299.000000</td>\n",
       "      <td>299.00000</td>\n",
       "      <td>299.000000</td>\n",
       "      <td>299.000000</td>\n",
       "      <td>299.00000</td>\n",
       "      <td>299.000000</td>\n",
       "      <td>299.00000</td>\n",
       "    </tr>\n",
       "    <tr>\n",
       "      <th>mean</th>\n",
       "      <td>60.833893</td>\n",
       "      <td>0.431438</td>\n",
       "      <td>581.839465</td>\n",
       "      <td>0.418060</td>\n",
       "      <td>38.083612</td>\n",
       "      <td>0.351171</td>\n",
       "      <td>263358.029264</td>\n",
       "      <td>1.39388</td>\n",
       "      <td>136.625418</td>\n",
       "      <td>0.648829</td>\n",
       "      <td>0.32107</td>\n",
       "      <td>130.260870</td>\n",
       "      <td>0.32107</td>\n",
       "    </tr>\n",
       "    <tr>\n",
       "      <th>std</th>\n",
       "      <td>11.894809</td>\n",
       "      <td>0.496107</td>\n",
       "      <td>970.287881</td>\n",
       "      <td>0.494067</td>\n",
       "      <td>11.834841</td>\n",
       "      <td>0.478136</td>\n",
       "      <td>97804.236869</td>\n",
       "      <td>1.03451</td>\n",
       "      <td>4.412477</td>\n",
       "      <td>0.478136</td>\n",
       "      <td>0.46767</td>\n",
       "      <td>77.614208</td>\n",
       "      <td>0.46767</td>\n",
       "    </tr>\n",
       "    <tr>\n",
       "      <th>min</th>\n",
       "      <td>40.000000</td>\n",
       "      <td>0.000000</td>\n",
       "      <td>23.000000</td>\n",
       "      <td>0.000000</td>\n",
       "      <td>14.000000</td>\n",
       "      <td>0.000000</td>\n",
       "      <td>25100.000000</td>\n",
       "      <td>0.50000</td>\n",
       "      <td>113.000000</td>\n",
       "      <td>0.000000</td>\n",
       "      <td>0.00000</td>\n",
       "      <td>4.000000</td>\n",
       "      <td>0.00000</td>\n",
       "    </tr>\n",
       "    <tr>\n",
       "      <th>25%</th>\n",
       "      <td>51.000000</td>\n",
       "      <td>0.000000</td>\n",
       "      <td>116.500000</td>\n",
       "      <td>0.000000</td>\n",
       "      <td>30.000000</td>\n",
       "      <td>0.000000</td>\n",
       "      <td>212500.000000</td>\n",
       "      <td>0.90000</td>\n",
       "      <td>134.000000</td>\n",
       "      <td>0.000000</td>\n",
       "      <td>0.00000</td>\n",
       "      <td>73.000000</td>\n",
       "      <td>0.00000</td>\n",
       "    </tr>\n",
       "    <tr>\n",
       "      <th>50%</th>\n",
       "      <td>60.000000</td>\n",
       "      <td>0.000000</td>\n",
       "      <td>250.000000</td>\n",
       "      <td>0.000000</td>\n",
       "      <td>38.000000</td>\n",
       "      <td>0.000000</td>\n",
       "      <td>262000.000000</td>\n",
       "      <td>1.10000</td>\n",
       "      <td>137.000000</td>\n",
       "      <td>1.000000</td>\n",
       "      <td>0.00000</td>\n",
       "      <td>115.000000</td>\n",
       "      <td>0.00000</td>\n",
       "    </tr>\n",
       "    <tr>\n",
       "      <th>75%</th>\n",
       "      <td>70.000000</td>\n",
       "      <td>1.000000</td>\n",
       "      <td>582.000000</td>\n",
       "      <td>1.000000</td>\n",
       "      <td>45.000000</td>\n",
       "      <td>1.000000</td>\n",
       "      <td>303500.000000</td>\n",
       "      <td>1.40000</td>\n",
       "      <td>140.000000</td>\n",
       "      <td>1.000000</td>\n",
       "      <td>1.00000</td>\n",
       "      <td>203.000000</td>\n",
       "      <td>1.00000</td>\n",
       "    </tr>\n",
       "    <tr>\n",
       "      <th>max</th>\n",
       "      <td>95.000000</td>\n",
       "      <td>1.000000</td>\n",
       "      <td>7861.000000</td>\n",
       "      <td>1.000000</td>\n",
       "      <td>80.000000</td>\n",
       "      <td>1.000000</td>\n",
       "      <td>850000.000000</td>\n",
       "      <td>9.40000</td>\n",
       "      <td>148.000000</td>\n",
       "      <td>1.000000</td>\n",
       "      <td>1.00000</td>\n",
       "      <td>285.000000</td>\n",
       "      <td>1.00000</td>\n",
       "    </tr>\n",
       "  </tbody>\n",
       "</table>\n",
       "</div>"
      ],
      "text/plain": [
       "              age     anaemia  creatinine_phosphokinase    diabetes  \\\n",
       "count  299.000000  299.000000                299.000000  299.000000   \n",
       "mean    60.833893    0.431438                581.839465    0.418060   \n",
       "std     11.894809    0.496107                970.287881    0.494067   \n",
       "min     40.000000    0.000000                 23.000000    0.000000   \n",
       "25%     51.000000    0.000000                116.500000    0.000000   \n",
       "50%     60.000000    0.000000                250.000000    0.000000   \n",
       "75%     70.000000    1.000000                582.000000    1.000000   \n",
       "max     95.000000    1.000000               7861.000000    1.000000   \n",
       "\n",
       "       ejection_fraction  high_blood_pressure      platelets  \\\n",
       "count         299.000000           299.000000     299.000000   \n",
       "mean           38.083612             0.351171  263358.029264   \n",
       "std            11.834841             0.478136   97804.236869   \n",
       "min            14.000000             0.000000   25100.000000   \n",
       "25%            30.000000             0.000000  212500.000000   \n",
       "50%            38.000000             0.000000  262000.000000   \n",
       "75%            45.000000             1.000000  303500.000000   \n",
       "max            80.000000             1.000000  850000.000000   \n",
       "\n",
       "       serum_creatinine  serum_sodium         sex    smoking        time  \\\n",
       "count         299.00000    299.000000  299.000000  299.00000  299.000000   \n",
       "mean            1.39388    136.625418    0.648829    0.32107  130.260870   \n",
       "std             1.03451      4.412477    0.478136    0.46767   77.614208   \n",
       "min             0.50000    113.000000    0.000000    0.00000    4.000000   \n",
       "25%             0.90000    134.000000    0.000000    0.00000   73.000000   \n",
       "50%             1.10000    137.000000    1.000000    0.00000  115.000000   \n",
       "75%             1.40000    140.000000    1.000000    1.00000  203.000000   \n",
       "max             9.40000    148.000000    1.000000    1.00000  285.000000   \n",
       "\n",
       "       DEATH_EVENT  \n",
       "count    299.00000  \n",
       "mean       0.32107  \n",
       "std        0.46767  \n",
       "min        0.00000  \n",
       "25%        0.00000  \n",
       "50%        0.00000  \n",
       "75%        1.00000  \n",
       "max        1.00000  "
      ]
     },
     "execution_count": 15,
     "metadata": {},
     "output_type": "execute_result"
    }
   ],
   "source": [
    "ds = Dataset.get_by_name(ws, name='heart-failure-sayed')\n",
    "dataframe = ds.to_pandas_dataframe()\n",
    "dataframe.describe()"
   ]
  },
  {
   "cell_type": "code",
   "execution_count": 19,
   "metadata": {},
   "outputs": [],
   "source": [
    "#splitting datasets to test and training set\n",
    "training_dataset, test_dataset = train_test_split(dataframe, test_size=0.2, random_state=111)"
   ]
  },
  {
   "cell_type": "code",
   "execution_count": 20,
   "metadata": {},
   "outputs": [
    {
     "data": {
      "text/html": [
       "<div>\n",
       "<style scoped>\n",
       "    .dataframe tbody tr th:only-of-type {\n",
       "        vertical-align: middle;\n",
       "    }\n",
       "\n",
       "    .dataframe tbody tr th {\n",
       "        vertical-align: top;\n",
       "    }\n",
       "\n",
       "    .dataframe thead th {\n",
       "        text-align: right;\n",
       "    }\n",
       "</style>\n",
       "<table border=\"1\" class=\"dataframe\">\n",
       "  <thead>\n",
       "    <tr style=\"text-align: right;\">\n",
       "      <th></th>\n",
       "      <th>age</th>\n",
       "      <th>anaemia</th>\n",
       "      <th>creatinine_phosphokinase</th>\n",
       "      <th>diabetes</th>\n",
       "      <th>ejection_fraction</th>\n",
       "      <th>high_blood_pressure</th>\n",
       "      <th>platelets</th>\n",
       "      <th>serum_creatinine</th>\n",
       "      <th>serum_sodium</th>\n",
       "      <th>sex</th>\n",
       "      <th>smoking</th>\n",
       "      <th>time</th>\n",
       "      <th>DEATH_EVENT</th>\n",
       "    </tr>\n",
       "  </thead>\n",
       "  <tbody>\n",
       "    <tr>\n",
       "      <th>278</th>\n",
       "      <td>50.0</td>\n",
       "      <td>1</td>\n",
       "      <td>1051</td>\n",
       "      <td>1</td>\n",
       "      <td>30</td>\n",
       "      <td>0</td>\n",
       "      <td>232000.0</td>\n",
       "      <td>0.7</td>\n",
       "      <td>136</td>\n",
       "      <td>0</td>\n",
       "      <td>0</td>\n",
       "      <td>246</td>\n",
       "      <td>0</td>\n",
       "    </tr>\n",
       "    <tr>\n",
       "      <th>218</th>\n",
       "      <td>68.0</td>\n",
       "      <td>1</td>\n",
       "      <td>1021</td>\n",
       "      <td>1</td>\n",
       "      <td>35</td>\n",
       "      <td>0</td>\n",
       "      <td>271000.0</td>\n",
       "      <td>1.1</td>\n",
       "      <td>134</td>\n",
       "      <td>1</td>\n",
       "      <td>0</td>\n",
       "      <td>197</td>\n",
       "      <td>0</td>\n",
       "    </tr>\n",
       "    <tr>\n",
       "      <th>128</th>\n",
       "      <td>61.0</td>\n",
       "      <td>0</td>\n",
       "      <td>248</td>\n",
       "      <td>0</td>\n",
       "      <td>30</td>\n",
       "      <td>1</td>\n",
       "      <td>267000.0</td>\n",
       "      <td>0.7</td>\n",
       "      <td>136</td>\n",
       "      <td>1</td>\n",
       "      <td>1</td>\n",
       "      <td>104</td>\n",
       "      <td>0</td>\n",
       "    </tr>\n",
       "    <tr>\n",
       "      <th>35</th>\n",
       "      <td>69.0</td>\n",
       "      <td>0</td>\n",
       "      <td>582</td>\n",
       "      <td>1</td>\n",
       "      <td>35</td>\n",
       "      <td>0</td>\n",
       "      <td>228000.0</td>\n",
       "      <td>3.5</td>\n",
       "      <td>134</td>\n",
       "      <td>1</td>\n",
       "      <td>0</td>\n",
       "      <td>30</td>\n",
       "      <td>1</td>\n",
       "    </tr>\n",
       "    <tr>\n",
       "      <th>184</th>\n",
       "      <td>58.0</td>\n",
       "      <td>1</td>\n",
       "      <td>145</td>\n",
       "      <td>0</td>\n",
       "      <td>25</td>\n",
       "      <td>0</td>\n",
       "      <td>219000.0</td>\n",
       "      <td>1.2</td>\n",
       "      <td>137</td>\n",
       "      <td>1</td>\n",
       "      <td>1</td>\n",
       "      <td>170</td>\n",
       "      <td>1</td>\n",
       "    </tr>\n",
       "    <tr>\n",
       "      <th>...</th>\n",
       "      <td>...</td>\n",
       "      <td>...</td>\n",
       "      <td>...</td>\n",
       "      <td>...</td>\n",
       "      <td>...</td>\n",
       "      <td>...</td>\n",
       "      <td>...</td>\n",
       "      <td>...</td>\n",
       "      <td>...</td>\n",
       "      <td>...</td>\n",
       "      <td>...</td>\n",
       "      <td>...</td>\n",
       "      <td>...</td>\n",
       "    </tr>\n",
       "    <tr>\n",
       "      <th>118</th>\n",
       "      <td>65.0</td>\n",
       "      <td>1</td>\n",
       "      <td>113</td>\n",
       "      <td>1</td>\n",
       "      <td>60</td>\n",
       "      <td>1</td>\n",
       "      <td>203000.0</td>\n",
       "      <td>0.9</td>\n",
       "      <td>140</td>\n",
       "      <td>0</td>\n",
       "      <td>0</td>\n",
       "      <td>94</td>\n",
       "      <td>0</td>\n",
       "    </tr>\n",
       "    <tr>\n",
       "      <th>169</th>\n",
       "      <td>70.0</td>\n",
       "      <td>0</td>\n",
       "      <td>835</td>\n",
       "      <td>0</td>\n",
       "      <td>35</td>\n",
       "      <td>1</td>\n",
       "      <td>305000.0</td>\n",
       "      <td>0.8</td>\n",
       "      <td>133</td>\n",
       "      <td>0</td>\n",
       "      <td>0</td>\n",
       "      <td>145</td>\n",
       "      <td>0</td>\n",
       "    </tr>\n",
       "    <tr>\n",
       "      <th>275</th>\n",
       "      <td>45.0</td>\n",
       "      <td>0</td>\n",
       "      <td>582</td>\n",
       "      <td>0</td>\n",
       "      <td>38</td>\n",
       "      <td>1</td>\n",
       "      <td>422000.0</td>\n",
       "      <td>0.8</td>\n",
       "      <td>137</td>\n",
       "      <td>0</td>\n",
       "      <td>0</td>\n",
       "      <td>245</td>\n",
       "      <td>0</td>\n",
       "    </tr>\n",
       "    <tr>\n",
       "      <th>86</th>\n",
       "      <td>55.0</td>\n",
       "      <td>0</td>\n",
       "      <td>47</td>\n",
       "      <td>0</td>\n",
       "      <td>35</td>\n",
       "      <td>1</td>\n",
       "      <td>173000.0</td>\n",
       "      <td>1.1</td>\n",
       "      <td>137</td>\n",
       "      <td>1</td>\n",
       "      <td>0</td>\n",
       "      <td>79</td>\n",
       "      <td>0</td>\n",
       "    </tr>\n",
       "    <tr>\n",
       "      <th>212</th>\n",
       "      <td>78.0</td>\n",
       "      <td>0</td>\n",
       "      <td>224</td>\n",
       "      <td>0</td>\n",
       "      <td>50</td>\n",
       "      <td>0</td>\n",
       "      <td>481000.0</td>\n",
       "      <td>1.4</td>\n",
       "      <td>138</td>\n",
       "      <td>1</td>\n",
       "      <td>1</td>\n",
       "      <td>192</td>\n",
       "      <td>0</td>\n",
       "    </tr>\n",
       "  </tbody>\n",
       "</table>\n",
       "<p>239 rows × 13 columns</p>\n",
       "</div>"
      ],
      "text/plain": [
       "      age  anaemia  creatinine_phosphokinase  diabetes  ejection_fraction  \\\n",
       "278  50.0        1                      1051         1                 30   \n",
       "218  68.0        1                      1021         1                 35   \n",
       "128  61.0        0                       248         0                 30   \n",
       "35   69.0        0                       582         1                 35   \n",
       "184  58.0        1                       145         0                 25   \n",
       "..    ...      ...                       ...       ...                ...   \n",
       "118  65.0        1                       113         1                 60   \n",
       "169  70.0        0                       835         0                 35   \n",
       "275  45.0        0                       582         0                 38   \n",
       "86   55.0        0                        47         0                 35   \n",
       "212  78.0        0                       224         0                 50   \n",
       "\n",
       "     high_blood_pressure  platelets  serum_creatinine  serum_sodium  sex  \\\n",
       "278                    0   232000.0               0.7           136    0   \n",
       "218                    0   271000.0               1.1           134    1   \n",
       "128                    1   267000.0               0.7           136    1   \n",
       "35                     0   228000.0               3.5           134    1   \n",
       "184                    0   219000.0               1.2           137    1   \n",
       "..                   ...        ...               ...           ...  ...   \n",
       "118                    1   203000.0               0.9           140    0   \n",
       "169                    1   305000.0               0.8           133    0   \n",
       "275                    1   422000.0               0.8           137    0   \n",
       "86                     1   173000.0               1.1           137    1   \n",
       "212                    0   481000.0               1.4           138    1   \n",
       "\n",
       "     smoking  time  DEATH_EVENT  \n",
       "278        0   246            0  \n",
       "218        0   197            0  \n",
       "128        1   104            0  \n",
       "35         0    30            1  \n",
       "184        1   170            1  \n",
       "..       ...   ...          ...  \n",
       "118        0    94            0  \n",
       "169        0   145            0  \n",
       "275        0   245            0  \n",
       "86         0    79            0  \n",
       "212        1   192            0  \n",
       "\n",
       "[239 rows x 13 columns]"
      ]
     },
     "execution_count": 20,
     "metadata": {},
     "output_type": "execute_result"
    }
   ],
   "source": [
    "training_dataset"
   ]
  },
  {
   "cell_type": "code",
   "execution_count": 22,
   "metadata": {},
   "outputs": [],
   "source": [
    "test_y = training_dataset['DEATH_EVENT']\n",
    "test_x = training_dataset.drop(['DEATH_EVENT'], axis=1)"
   ]
  },
  {
   "cell_type": "code",
   "execution_count": 29,
   "metadata": {},
   "outputs": [
    {
     "name": "stdout",
     "output_type": "stream",
     "text": [
      "Uploading an estimated of 1 files\n",
      "Uploading data/trainingdata.csv\n",
      "Uploaded data/trainingdata.csv, 1 files out of an estimated total of 1\n",
      "Uploaded 1 files\n"
     ]
    }
   ],
   "source": [
    "os.makedirs('data', exist_ok=True)\n",
    "training_data_path = 'data/trainingdata.csv'\n",
    "training_dataset.to_csv(training_data_path)\n",
    "\n",
    "datastore = ws.get_default_datastore()\n",
    "\n",
    "datastore.upload(src_dir='data', target_path='data')\n",
    "\n",
    "my_training_ds = Dataset.Tabular.from_delimited_files(datastore.path(training_data_path))"
   ]
  },
  {
   "cell_type": "markdown",
   "metadata": {},
   "source": [
    "## AutoML Configuration\n",
    "\n",
    "TODO: Explain why you chose the automl settings and cofiguration you used below."
   ]
  },
  {
   "cell_type": "code",
   "execution_count": 30,
   "metadata": {
    "gather": {
     "logged": 1598429217746
    },
    "jupyter": {
     "outputs_hidden": false,
     "source_hidden": false
    },
    "nteract": {
     "transient": {
      "deleting": false
     }
    }
   },
   "outputs": [],
   "source": [
    "# automl settings\n",
    "automl_settings = {\n",
    "    \"n_cross_validations\": 5,\n",
    "    \"primary_metric\": 'accuracy',\n",
    "    \"enable_early_stopping\": True,\n",
    "    \"max_concurrent_iterations\": 4,\n",
    "    \"max_cores_per_iteration\": -1\n",
    "}\n",
    "\n",
    "# automl config\n",
    "automl_config = AutoMLConfig(task = 'classification',\n",
    "                            experiment_timeout_minutes=30,\n",
    "                            compute_target = compute_target,\n",
    "                            training_data = my_training_ds,\n",
    "                            label_column_name = 'DEATH_EVENT',\n",
    "                            featurization= 'auto',\n",
    "                            path = project_folder,\n",
    "                            debug_log = \"automl_errors.log\",\n",
    "                            **automl_settings\n",
    "                            )"
   ]
  },
  {
   "cell_type": "code",
   "execution_count": 31,
   "metadata": {
    "gather": {
     "logged": 1598431107951
    },
    "jupyter": {
     "outputs_hidden": false,
     "source_hidden": false
    },
    "nteract": {
     "transient": {
      "deleting": false
     }
    }
   },
   "outputs": [
    {
     "name": "stdout",
     "output_type": "stream",
     "text": [
      "Running on remote.\n"
     ]
    }
   ],
   "source": [
    "# TODO: Submitting experiment\n",
    "remote_run = experiment.submit(automl_config)"
   ]
  },
  {
   "cell_type": "markdown",
   "metadata": {},
   "source": [
    "## Run Details\n",
    "\n",
    "OPTIONAL: Write about the different models trained and their performance. Why do you think some models did better than others?\n",
    "\n",
    "TODO: In the cell below, use the `RunDetails` widget to show the different experiments."
   ]
  },
  {
   "cell_type": "code",
   "execution_count": 34,
   "metadata": {
    "gather": {
     "logged": 1598431121770
    },
    "jupyter": {
     "outputs_hidden": false,
     "source_hidden": false
    },
    "nteract": {
     "transient": {
      "deleting": false
     }
    }
   },
   "outputs": [
    {
     "data": {
      "application/vnd.jupyter.widget-view+json": {
       "model_id": "6bcd5147ec914d5ab21357fa12b1621f",
       "version_major": 2,
       "version_minor": 0
      },
      "text/plain": [
       "_AutoMLWidget(widget_settings={'childWidgetDisplay': 'popup', 'send_telemetry': False, 'log_level': 'INFO', 's…"
      ]
     },
     "metadata": {},
     "output_type": "display_data"
    },
    {
     "data": {
      "application/aml.mini.widget.v1": "{\"status\": \"Completed\", \"workbench_run_details_uri\": \"https://ml.azure.com/experiments/heart-failure-exp-sayed/runs/AutoML_ca19b72c-5a6a-4c23-a502-59e8d4f2094c?wsid=/subscriptions/3d1a56d2-7c81-4118-9790-f85d1acf0c77/resourcegroups/aml-quickstarts-137297/workspaces/quick-starts-ws-137297\", \"run_id\": \"AutoML_ca19b72c-5a6a-4c23-a502-59e8d4f2094c\", \"run_properties\": {\"run_id\": \"AutoML_ca19b72c-5a6a-4c23-a502-59e8d4f2094c\", \"created_utc\": \"2021-02-05T09:36:31.660574Z\", \"properties\": {\"num_iterations\": \"1000\", \"training_type\": \"TrainFull\", \"acquisition_function\": \"EI\", \"primary_metric\": \"accuracy\", \"train_split\": \"0\", \"acquisition_parameter\": \"0\", \"num_cross_validation\": \"5\", \"target\": \"sayed-cluster2\", \"AMLSettingsJsonString\": \"{\\\"path\\\":null,\\\"name\\\":\\\"heart-failure-exp-sayed\\\",\\\"subscription_id\\\":\\\"3d1a56d2-7c81-4118-9790-f85d1acf0c77\\\",\\\"resource_group\\\":\\\"aml-quickstarts-137297\\\",\\\"workspace_name\\\":\\\"quick-starts-ws-137297\\\",\\\"region\\\":\\\"southcentralus\\\",\\\"compute_target\\\":\\\"sayed-cluster2\\\",\\\"spark_service\\\":null,\\\"azure_service\\\":\\\"remote\\\",\\\"many_models\\\":false,\\\"pipeline_fetch_max_batch_size\\\":1,\\\"iterations\\\":1000,\\\"primary_metric\\\":\\\"accuracy\\\",\\\"task_type\\\":\\\"classification\\\",\\\"data_script\\\":null,\\\"validation_size\\\":0.0,\\\"n_cross_validations\\\":5,\\\"y_min\\\":null,\\\"y_max\\\":null,\\\"num_classes\\\":null,\\\"featurization\\\":\\\"auto\\\",\\\"_ignore_package_version_incompatibilities\\\":false,\\\"is_timeseries\\\":false,\\\"max_cores_per_iteration\\\":-1,\\\"max_concurrent_iterations\\\":4,\\\"iteration_timeout_minutes\\\":null,\\\"mem_in_mb\\\":null,\\\"enforce_time_on_windows\\\":false,\\\"experiment_timeout_minutes\\\":30,\\\"experiment_exit_score\\\":null,\\\"whitelist_models\\\":null,\\\"blacklist_algos\\\":[\\\"TensorFlowLinearClassifier\\\",\\\"TensorFlowDNN\\\"],\\\"supported_models\\\":[\\\"BernoulliNaiveBayes\\\",\\\"DecisionTree\\\",\\\"AveragedPerceptronClassifier\\\",\\\"GradientBoosting\\\",\\\"LinearSVM\\\",\\\"RandomForest\\\",\\\"ExtremeRandomTrees\\\",\\\"MultinomialNaiveBayes\\\",\\\"KNN\\\",\\\"LightGBM\\\",\\\"TensorFlowLinearClassifier\\\",\\\"TensorFlowDNN\\\",\\\"SGD\\\",\\\"SVM\\\",\\\"XGBoostClassifier\\\",\\\"LogisticRegression\\\"],\\\"auto_blacklist\\\":true,\\\"blacklist_samples_reached\\\":false,\\\"exclude_nan_labels\\\":true,\\\"verbosity\\\":20,\\\"_debug_log\\\":\\\"azureml_automl.log\\\",\\\"show_warnings\\\":false,\\\"model_explainability\\\":true,\\\"service_url\\\":null,\\\"sdk_url\\\":null,\\\"sdk_packages\\\":null,\\\"enable_onnx_compatible_models\\\":false,\\\"enable_split_onnx_featurizer_estimator_models\\\":false,\\\"vm_type\\\":\\\"STANDARD_D2_V2\\\",\\\"telemetry_verbosity\\\":20,\\\"send_telemetry\\\":true,\\\"enable_dnn\\\":false,\\\"scenario\\\":\\\"SDK-1.13.0\\\",\\\"environment_label\\\":null,\\\"force_text_dnn\\\":false,\\\"enable_feature_sweeping\\\":true,\\\"enable_early_stopping\\\":true,\\\"early_stopping_n_iters\\\":10,\\\"metrics\\\":null,\\\"enable_ensembling\\\":true,\\\"enable_stack_ensembling\\\":true,\\\"ensemble_iterations\\\":15,\\\"enable_tf\\\":false,\\\"enable_subsampling\\\":null,\\\"subsample_seed\\\":null,\\\"enable_nimbusml\\\":false,\\\"enable_streaming\\\":false,\\\"force_streaming\\\":false,\\\"track_child_runs\\\":true,\\\"allowed_private_models\\\":[],\\\"label_column_name\\\":\\\"DEATH_EVENT\\\",\\\"weight_column_name\\\":null,\\\"cv_split_column_names\\\":null,\\\"enable_local_managed\\\":false,\\\"_local_managed_run_id\\\":null,\\\"cost_mode\\\":1,\\\"lag_length\\\":0,\\\"metric_operation\\\":\\\"maximize\\\",\\\"preprocess\\\":true}\", \"DataPrepJsonString\": \"{\\\\\\\"training_data\\\\\\\": \\\\\\\"{\\\\\\\\\\\\\\\"blocks\\\\\\\\\\\\\\\": [{\\\\\\\\\\\\\\\"id\\\\\\\\\\\\\\\": \\\\\\\\\\\\\\\"61187313-5c98-4ce2-a369-1051f93b7b10\\\\\\\\\\\\\\\", \\\\\\\\\\\\\\\"type\\\\\\\\\\\\\\\": \\\\\\\\\\\\\\\"Microsoft.DPrep.GetDatastoreFilesBlock\\\\\\\\\\\\\\\", \\\\\\\\\\\\\\\"arguments\\\\\\\\\\\\\\\": {\\\\\\\\\\\\\\\"datastores\\\\\\\\\\\\\\\": [{\\\\\\\\\\\\\\\"datastoreName\\\\\\\\\\\\\\\": \\\\\\\\\\\\\\\"workspaceblobstore\\\\\\\\\\\\\\\", \\\\\\\\\\\\\\\"path\\\\\\\\\\\\\\\": \\\\\\\\\\\\\\\"data/trainingdata.csv\\\\\\\\\\\\\\\", \\\\\\\\\\\\\\\"resourceGroup\\\\\\\\\\\\\\\": \\\\\\\\\\\\\\\"aml-quickstarts-137297\\\\\\\\\\\\\\\", \\\\\\\\\\\\\\\"subscription\\\\\\\\\\\\\\\": \\\\\\\\\\\\\\\"3d1a56d2-7c81-4118-9790-f85d1acf0c77\\\\\\\\\\\\\\\", \\\\\\\\\\\\\\\"workspaceName\\\\\\\\\\\\\\\": \\\\\\\\\\\\\\\"quick-starts-ws-137297\\\\\\\\\\\\\\\"}]}, \\\\\\\\\\\\\\\"localData\\\\\\\\\\\\\\\": {}, \\\\\\\\\\\\\\\"isEnabled\\\\\\\\\\\\\\\": true, \\\\\\\\\\\\\\\"name\\\\\\\\\\\\\\\": null, \\\\\\\\\\\\\\\"annotation\\\\\\\\\\\\\\\": null}, {\\\\\\\\\\\\\\\"id\\\\\\\\\\\\\\\": \\\\\\\\\\\\\\\"6c581d02-8712-414e-a97d-e6df74c813a9\\\\\\\\\\\\\\\", \\\\\\\\\\\\\\\"type\\\\\\\\\\\\\\\": \\\\\\\\\\\\\\\"Microsoft.DPrep.ParseDelimitedBlock\\\\\\\\\\\\\\\", \\\\\\\\\\\\\\\"arguments\\\\\\\\\\\\\\\": {\\\\\\\\\\\\\\\"columnHeadersMode\\\\\\\\\\\\\\\": 3, \\\\\\\\\\\\\\\"fileEncoding\\\\\\\\\\\\\\\": 0, \\\\\\\\\\\\\\\"handleQuotedLineBreaks\\\\\\\\\\\\\\\": false, \\\\\\\\\\\\\\\"preview\\\\\\\\\\\\\\\": false, \\\\\\\\\\\\\\\"separator\\\\\\\\\\\\\\\": \\\\\\\\\\\\\\\",\\\\\\\\\\\\\\\", \\\\\\\\\\\\\\\"skipRows\\\\\\\\\\\\\\\": 0, \\\\\\\\\\\\\\\"skipRowsMode\\\\\\\\\\\\\\\": 0}, \\\\\\\\\\\\\\\"localData\\\\\\\\\\\\\\\": {}, \\\\\\\\\\\\\\\"isEnabled\\\\\\\\\\\\\\\": true, \\\\\\\\\\\\\\\"name\\\\\\\\\\\\\\\": null, \\\\\\\\\\\\\\\"annotation\\\\\\\\\\\\\\\": null}, {\\\\\\\\\\\\\\\"id\\\\\\\\\\\\\\\": \\\\\\\\\\\\\\\"c11ab54f-be80-49f6-b07a-076c7ee31b0c\\\\\\\\\\\\\\\", \\\\\\\\\\\\\\\"type\\\\\\\\\\\\\\\": \\\\\\\\\\\\\\\"Microsoft.DPrep.DropColumnsBlock\\\\\\\\\\\\\\\", \\\\\\\\\\\\\\\"arguments\\\\\\\\\\\\\\\": {\\\\\\\\\\\\\\\"columns\\\\\\\\\\\\\\\": {\\\\\\\\\\\\\\\"type\\\\\\\\\\\\\\\": 0, \\\\\\\\\\\\\\\"details\\\\\\\\\\\\\\\": {\\\\\\\\\\\\\\\"selectedColumns\\\\\\\\\\\\\\\": [\\\\\\\\\\\\\\\"Path\\\\\\\\\\\\\\\"]}}}, \\\\\\\\\\\\\\\"localData\\\\\\\\\\\\\\\": {}, \\\\\\\\\\\\\\\"isEnabled\\\\\\\\\\\\\\\": true, \\\\\\\\\\\\\\\"name\\\\\\\\\\\\\\\": null, \\\\\\\\\\\\\\\"annotation\\\\\\\\\\\\\\\": null}, {\\\\\\\\\\\\\\\"id\\\\\\\\\\\\\\\": \\\\\\\\\\\\\\\"2f4dd1e6-aa9e-4ca3-9e2e-ae0bc3352a7f\\\\\\\\\\\\\\\", \\\\\\\\\\\\\\\"type\\\\\\\\\\\\\\\": \\\\\\\\\\\\\\\"Microsoft.DPrep.SetColumnTypesBlock\\\\\\\\\\\\\\\", \\\\\\\\\\\\\\\"arguments\\\\\\\\\\\\\\\": {\\\\\\\\\\\\\\\"columnConversion\\\\\\\\\\\\\\\": [{\\\\\\\\\\\\\\\"column\\\\\\\\\\\\\\\": {\\\\\\\\\\\\\\\"type\\\\\\\\\\\\\\\": 2, \\\\\\\\\\\\\\\"details\\\\\\\\\\\\\\\": {\\\\\\\\\\\\\\\"selectedColumn\\\\\\\\\\\\\\\": \\\\\\\\\\\\\\\"Column1\\\\\\\\\\\\\\\"}}, \\\\\\\\\\\\\\\"typeProperty\\\\\\\\\\\\\\\": 2}, {\\\\\\\\\\\\\\\"column\\\\\\\\\\\\\\\": {\\\\\\\\\\\\\\\"type\\\\\\\\\\\\\\\": 2, \\\\\\\\\\\\\\\"details\\\\\\\\\\\\\\\": {\\\\\\\\\\\\\\\"selectedColumn\\\\\\\\\\\\\\\": \\\\\\\\\\\\\\\"age\\\\\\\\\\\\\\\"}}, \\\\\\\\\\\\\\\"typeProperty\\\\\\\\\\\\\\\": 3}, {\\\\\\\\\\\\\\\"column\\\\\\\\\\\\\\\": {\\\\\\\\\\\\\\\"type\\\\\\\\\\\\\\\": 2, \\\\\\\\\\\\\\\"details\\\\\\\\\\\\\\\": {\\\\\\\\\\\\\\\"selectedColumn\\\\\\\\\\\\\\\": \\\\\\\\\\\\\\\"anaemia\\\\\\\\\\\\\\\"}}, \\\\\\\\\\\\\\\"typeProperty\\\\\\\\\\\\\\\": 2}, {\\\\\\\\\\\\\\\"column\\\\\\\\\\\\\\\": {\\\\\\\\\\\\\\\"type\\\\\\\\\\\\\\\": 2, \\\\\\\\\\\\\\\"details\\\\\\\\\\\\\\\": {\\\\\\\\\\\\\\\"selectedColumn\\\\\\\\\\\\\\\": \\\\\\\\\\\\\\\"creatinine_phosphokinase\\\\\\\\\\\\\\\"}}, \\\\\\\\\\\\\\\"typeProperty\\\\\\\\\\\\\\\": 2}, {\\\\\\\\\\\\\\\"column\\\\\\\\\\\\\\\": {\\\\\\\\\\\\\\\"type\\\\\\\\\\\\\\\": 2, \\\\\\\\\\\\\\\"details\\\\\\\\\\\\\\\": {\\\\\\\\\\\\\\\"selectedColumn\\\\\\\\\\\\\\\": \\\\\\\\\\\\\\\"diabetes\\\\\\\\\\\\\\\"}}, \\\\\\\\\\\\\\\"typeProperty\\\\\\\\\\\\\\\": 2}, {\\\\\\\\\\\\\\\"column\\\\\\\\\\\\\\\": {\\\\\\\\\\\\\\\"type\\\\\\\\\\\\\\\": 2, \\\\\\\\\\\\\\\"details\\\\\\\\\\\\\\\": {\\\\\\\\\\\\\\\"selectedColumn\\\\\\\\\\\\\\\": \\\\\\\\\\\\\\\"ejection_fraction\\\\\\\\\\\\\\\"}}, \\\\\\\\\\\\\\\"typeProperty\\\\\\\\\\\\\\\": 2}, {\\\\\\\\\\\\\\\"column\\\\\\\\\\\\\\\": {\\\\\\\\\\\\\\\"type\\\\\\\\\\\\\\\": 2, \\\\\\\\\\\\\\\"details\\\\\\\\\\\\\\\": {\\\\\\\\\\\\\\\"selectedColumn\\\\\\\\\\\\\\\": \\\\\\\\\\\\\\\"high_blood_pressure\\\\\\\\\\\\\\\"}}, \\\\\\\\\\\\\\\"typeProperty\\\\\\\\\\\\\\\": 2}, {\\\\\\\\\\\\\\\"column\\\\\\\\\\\\\\\": {\\\\\\\\\\\\\\\"type\\\\\\\\\\\\\\\": 2, \\\\\\\\\\\\\\\"details\\\\\\\\\\\\\\\": {\\\\\\\\\\\\\\\"selectedColumn\\\\\\\\\\\\\\\": \\\\\\\\\\\\\\\"platelets\\\\\\\\\\\\\\\"}}, \\\\\\\\\\\\\\\"typeProperty\\\\\\\\\\\\\\\": 3}, {\\\\\\\\\\\\\\\"column\\\\\\\\\\\\\\\": {\\\\\\\\\\\\\\\"type\\\\\\\\\\\\\\\": 2, \\\\\\\\\\\\\\\"details\\\\\\\\\\\\\\\": {\\\\\\\\\\\\\\\"selectedColumn\\\\\\\\\\\\\\\": \\\\\\\\\\\\\\\"serum_creatinine\\\\\\\\\\\\\\\"}}, \\\\\\\\\\\\\\\"typeProperty\\\\\\\\\\\\\\\": 3}, {\\\\\\\\\\\\\\\"column\\\\\\\\\\\\\\\": {\\\\\\\\\\\\\\\"type\\\\\\\\\\\\\\\": 2, \\\\\\\\\\\\\\\"details\\\\\\\\\\\\\\\": {\\\\\\\\\\\\\\\"selectedColumn\\\\\\\\\\\\\\\": \\\\\\\\\\\\\\\"serum_sodium\\\\\\\\\\\\\\\"}}, \\\\\\\\\\\\\\\"typeProperty\\\\\\\\\\\\\\\": 2}, {\\\\\\\\\\\\\\\"column\\\\\\\\\\\\\\\": {\\\\\\\\\\\\\\\"type\\\\\\\\\\\\\\\": 2, \\\\\\\\\\\\\\\"details\\\\\\\\\\\\\\\": {\\\\\\\\\\\\\\\"selectedColumn\\\\\\\\\\\\\\\": \\\\\\\\\\\\\\\"sex\\\\\\\\\\\\\\\"}}, \\\\\\\\\\\\\\\"typeProperty\\\\\\\\\\\\\\\": 2}, {\\\\\\\\\\\\\\\"column\\\\\\\\\\\\\\\": {\\\\\\\\\\\\\\\"type\\\\\\\\\\\\\\\": 2, \\\\\\\\\\\\\\\"details\\\\\\\\\\\\\\\": {\\\\\\\\\\\\\\\"selectedColumn\\\\\\\\\\\\\\\": \\\\\\\\\\\\\\\"smoking\\\\\\\\\\\\\\\"}}, \\\\\\\\\\\\\\\"typeProperty\\\\\\\\\\\\\\\": 2}, {\\\\\\\\\\\\\\\"column\\\\\\\\\\\\\\\": {\\\\\\\\\\\\\\\"type\\\\\\\\\\\\\\\": 2, \\\\\\\\\\\\\\\"details\\\\\\\\\\\\\\\": {\\\\\\\\\\\\\\\"selectedColumn\\\\\\\\\\\\\\\": \\\\\\\\\\\\\\\"time\\\\\\\\\\\\\\\"}}, \\\\\\\\\\\\\\\"typeProperty\\\\\\\\\\\\\\\": 2}, {\\\\\\\\\\\\\\\"column\\\\\\\\\\\\\\\": {\\\\\\\\\\\\\\\"type\\\\\\\\\\\\\\\": 2, \\\\\\\\\\\\\\\"details\\\\\\\\\\\\\\\": {\\\\\\\\\\\\\\\"selectedColumn\\\\\\\\\\\\\\\": \\\\\\\\\\\\\\\"DEATH_EVENT\\\\\\\\\\\\\\\"}}, \\\\\\\\\\\\\\\"typeProperty\\\\\\\\\\\\\\\": 2}]}, \\\\\\\\\\\\\\\"localData\\\\\\\\\\\\\\\": {}, \\\\\\\\\\\\\\\"isEnabled\\\\\\\\\\\\\\\": true, \\\\\\\\\\\\\\\"name\\\\\\\\\\\\\\\": null, \\\\\\\\\\\\\\\"annotation\\\\\\\\\\\\\\\": null}], \\\\\\\\\\\\\\\"inspectors\\\\\\\\\\\\\\\": [], \\\\\\\\\\\\\\\"meta\\\\\\\\\\\\\\\": {\\\\\\\\\\\\\\\"savedDatasetId\\\\\\\\\\\\\\\": \\\\\\\\\\\\\\\"50b4ad8d-8cc5-4be0-a05f-d710282c4d05\\\\\\\\\\\\\\\", \\\\\\\\\\\\\\\"datasetType\\\\\\\\\\\\\\\": \\\\\\\\\\\\\\\"tabular\\\\\\\\\\\\\\\", \\\\\\\\\\\\\\\"subscriptionId\\\\\\\\\\\\\\\": \\\\\\\\\\\\\\\"3d1a56d2-7c81-4118-9790-f85d1acf0c77\\\\\\\\\\\\\\\", \\\\\\\\\\\\\\\"workspaceId\\\\\\\\\\\\\\\": \\\\\\\\\\\\\\\"288b34ca-7482-4a73-96cf-36136d830727\\\\\\\\\\\\\\\", \\\\\\\\\\\\\\\"workspaceLocation\\\\\\\\\\\\\\\": \\\\\\\\\\\\\\\"southcentralus\\\\\\\\\\\\\\\"}}\\\\\\\", \\\\\\\"activities\\\\\\\": 0}\", \"EnableSubsampling\": null, \"runTemplate\": \"AutoML\", \"azureml.runsource\": \"automl\", \"display_task_type\": \"classification\", \"dependencies_versions\": \"{\\\"azureml-widgets\\\": \\\"1.20.0\\\", \\\"azureml-train\\\": \\\"1.20.0\\\", \\\"azureml-train-restclients-hyperdrive\\\": \\\"1.20.0\\\", \\\"azureml-train-core\\\": \\\"1.20.0\\\", \\\"azureml-train-automl\\\": \\\"1.20.0\\\", \\\"azureml-train-automl-runtime\\\": \\\"1.20.0\\\", \\\"azureml-train-automl-client\\\": \\\"1.20.0\\\", \\\"azureml-tensorboard\\\": \\\"1.20.0\\\", \\\"azureml-telemetry\\\": \\\"1.20.0\\\", \\\"azureml-sdk\\\": \\\"1.20.0\\\", \\\"azureml-samples\\\": \\\"0+unknown\\\", \\\"azureml-pipeline\\\": \\\"1.20.0\\\", \\\"azureml-pipeline-steps\\\": \\\"1.20.0\\\", \\\"azureml-pipeline-core\\\": \\\"1.20.0\\\", \\\"azureml-opendatasets\\\": \\\"1.20.0\\\", \\\"azureml-model-management-sdk\\\": \\\"1.0.1b6.post1\\\", \\\"azureml-mlflow\\\": \\\"1.20.0.post1\\\", \\\"azureml-interpret\\\": \\\"1.20.0\\\", \\\"azureml-explain-model\\\": \\\"1.20.0\\\", \\\"azureml-defaults\\\": \\\"1.20.0\\\", \\\"azureml-dataset-runtime\\\": \\\"1.20.0\\\", \\\"azureml-dataprep\\\": \\\"2.7.3\\\", \\\"azureml-dataprep-rslex\\\": \\\"1.5.0\\\", \\\"azureml-dataprep-native\\\": \\\"27.0.0\\\", \\\"azureml-datadrift\\\": \\\"1.20.0\\\", \\\"azureml-core\\\": \\\"1.20.0\\\", \\\"azureml-contrib-services\\\": \\\"1.20.0\\\", \\\"azureml-contrib-server\\\": \\\"1.20.0\\\", \\\"azureml-contrib-reinforcementlearning\\\": \\\"1.20.0\\\", \\\"azureml-contrib-pipeline-steps\\\": \\\"1.20.0\\\", \\\"azureml-contrib-notebook\\\": \\\"1.20.0\\\", \\\"azureml-contrib-interpret\\\": \\\"1.20.0\\\", \\\"azureml-contrib-gbdt\\\": \\\"1.20.0\\\", \\\"azureml-contrib-fairness\\\": \\\"1.20.0\\\", \\\"azureml-contrib-dataset\\\": \\\"1.20.0\\\", \\\"azureml-cli-common\\\": \\\"1.20.0\\\", \\\"azureml-automl-runtime\\\": \\\"1.20.0\\\", \\\"azureml-automl-core\\\": \\\"1.20.0\\\", \\\"azureml-accel-models\\\": \\\"1.20.0\\\"}\", \"_aml_system_scenario_identification\": \"Remote.Parent\", \"ClientType\": \"SDK\", \"environment_cpu_name\": \"AzureML-AutoML\", \"environment_cpu_label\": \"prod\", \"environment_gpu_name\": \"AzureML-AutoML-GPU\", \"environment_gpu_label\": \"prod\", \"root_attribution\": \"automl\", \"attribution\": \"AutoML\", \"Orchestrator\": \"AutoML\", \"CancelUri\": \"https://southcentralus.experiments.azureml.net/jasmine/v1.0/subscriptions/3d1a56d2-7c81-4118-9790-f85d1acf0c77/resourceGroups/aml-quickstarts-137297/providers/Microsoft.MachineLearningServices/workspaces/quick-starts-ws-137297/experimentids/a725fe89-a558-4de2-a608-383287e38d81/cancel/AutoML_ca19b72c-5a6a-4c23-a502-59e8d4f2094c\", \"ClientSdkVersion\": \"1.21.0\", \"snapshotId\": \"00000000-0000-0000-0000-000000000000\", \"SetupRunId\": \"AutoML_ca19b72c-5a6a-4c23-a502-59e8d4f2094c_setup\", \"SetupRunContainerId\": \"dcid.AutoML_ca19b72c-5a6a-4c23-a502-59e8d4f2094c_setup\", \"FeaturizationRunJsonPath\": \"featurizer_container.json\", \"FeaturizationRunId\": \"AutoML_ca19b72c-5a6a-4c23-a502-59e8d4f2094c_featurize\", \"ProblemInfoJsonString\": \"{\\\"dataset_num_categorical\\\": 0, \\\"is_sparse\\\": false, \\\"subsampling\\\": false, \\\"dataset_classes\\\": 2, \\\"dataset_features\\\": 13, \\\"dataset_samples\\\": 239, \\\"single_frequency_class_detected\\\": false}\", \"ModelExplainRunId\": \"AutoML_ca19b72c-5a6a-4c23-a502-59e8d4f2094c_ModelExplain\"}, \"tags\": {\"model_explain_run\": \"best_run\", \"_aml_system_azureml.automlComponent\": \"AutoML\", \"pipeline_id\": \"\", \"score\": \"\", \"predicted_cost\": \"\", \"fit_time\": \"\", \"training_percent\": \"\", \"iteration\": \"\", \"run_preprocessor\": \"\", \"run_algorithm\": \"\", \"dynamic_whitelisting_iterations\": \"<25>;<29>;<35>;\", \"automl_best_child_run_id\": \"AutoML_ca19b72c-5a6a-4c23-a502-59e8d4f2094c_36\", \"model_explain_best_run_child_id\": \"AutoML_ca19b72c-5a6a-4c23-a502-59e8d4f2094c_36\"}, \"end_time_utc\": \"2021-02-05T10:02:01.485619Z\", \"status\": \"Completed\", \"log_files\": {}, \"log_groups\": [], \"run_duration\": \"0:25:29\"}, \"child_runs\": [{\"run_id\": \"AutoML_ca19b72c-5a6a-4c23-a502-59e8d4f2094c_0\", \"run_number\": 5, \"metric\": null, \"status\": \"Completed\", \"run_type\": \"azureml.scriptrun\", \"training_percent\": \"100\", \"start_time\": \"2021-02-05T09:48:24.088808Z\", \"end_time\": \"2021-02-05T09:52:09.481235Z\", \"created_time\": \"2021-02-05T09:45:52.676508Z\", \"created_time_dt\": \"2021-02-05T09:45:52.676508Z\", \"duration\": \"0:06:16\", \"iteration\": \"0\", \"goal\": \"accuracy_max\", \"run_name\": \"MaxAbsScaler, LightGBM\", \"run_properties\": \"copy=True\", \"primary_metric\": 0.81586879, \"best_metric\": 0.81586879}, {\"run_id\": \"AutoML_ca19b72c-5a6a-4c23-a502-59e8d4f2094c_1\", \"run_number\": 6, \"metric\": null, \"status\": \"Completed\", \"run_type\": \"azureml.scriptrun\", \"training_percent\": \"100\", \"start_time\": \"2021-02-05T09:46:04.76547Z\", \"end_time\": \"2021-02-05T09:46:58.320964Z\", \"created_time\": \"2021-02-05T09:45:52.69598Z\", \"created_time_dt\": \"2021-02-05T09:45:52.69598Z\", \"duration\": \"0:01:05\", \"iteration\": \"1\", \"goal\": \"accuracy_max\", \"run_name\": \"MaxAbsScaler, XGBoostClassifier\", \"run_properties\": \"copy=True\", \"primary_metric\": 0.81586879, \"best_metric\": 0.81586879}, {\"run_id\": \"AutoML_ca19b72c-5a6a-4c23-a502-59e8d4f2094c_2\", \"run_number\": 7, \"metric\": null, \"status\": \"Completed\", \"run_type\": \"azureml.scriptrun\", \"training_percent\": \"100\", \"start_time\": \"2021-02-05T09:47:06.771055Z\", \"end_time\": \"2021-02-05T09:48:04.219911Z\", \"created_time\": \"2021-02-05T09:45:52.999385Z\", \"created_time_dt\": \"2021-02-05T09:45:52.999385Z\", \"duration\": \"0:02:11\", \"iteration\": \"2\", \"goal\": \"accuracy_max\", \"run_name\": \"MinMaxScaler, RandomForest\", \"run_properties\": \"copy=True, feature_range=(0, 1\", \"primary_metric\": 0.83679078, \"best_metric\": 0.83679078}, {\"run_id\": \"AutoML_ca19b72c-5a6a-4c23-a502-59e8d4f2094c_3\", \"run_number\": 8, \"metric\": null, \"status\": \"Completed\", \"run_type\": \"azureml.scriptrun\", \"training_percent\": \"100\", \"start_time\": \"2021-02-05T09:48:05.678059Z\", \"end_time\": \"2021-02-05T09:49:04.989947Z\", \"created_time\": \"2021-02-05T09:45:53.130916Z\", \"created_time_dt\": \"2021-02-05T09:45:53.130916Z\", \"duration\": \"0:03:11\", \"iteration\": \"3\", \"goal\": \"accuracy_max\", \"run_name\": \"MinMaxScaler, RandomForest\", \"run_properties\": \"copy=True, feature_range=(0, 1\", \"primary_metric\": 0.83679078, \"best_metric\": 0.83679078}, {\"run_id\": \"AutoML_ca19b72c-5a6a-4c23-a502-59e8d4f2094c_4\", \"run_number\": 9, \"metric\": null, \"status\": \"Completed\", \"run_type\": \"azureml.scriptrun\", \"training_percent\": \"100\", \"start_time\": \"2021-02-05T09:48:21.18254Z\", \"end_time\": \"2021-02-05T09:51:47.214051Z\", \"created_time\": \"2021-02-05T09:47:00.569163Z\", \"created_time_dt\": \"2021-02-05T09:47:00.569163Z\", \"duration\": \"0:04:46\", \"iteration\": \"4\", \"goal\": \"accuracy_max\", \"run_name\": \"MinMaxScaler, RandomForest\", \"run_properties\": \"copy=True, feature_range=(0, 1\", \"primary_metric\": 0.82429078, \"best_metric\": 0.83679078}, {\"run_id\": \"AutoML_ca19b72c-5a6a-4c23-a502-59e8d4f2094c_5\", \"run_number\": 10, \"metric\": null, \"status\": \"Completed\", \"run_type\": \"azureml.scriptrun\", \"training_percent\": \"100\", \"start_time\": \"2021-02-05T09:48:24.193397Z\", \"end_time\": \"2021-02-05T09:51:59.610275Z\", \"created_time\": \"2021-02-05T09:48:07.866466Z\", \"created_time_dt\": \"2021-02-05T09:48:07.866466Z\", \"duration\": \"0:03:51\", \"iteration\": \"5\", \"goal\": \"accuracy_max\", \"run_name\": \"StandardScalerWrapper, XGBoostClassifier\", \"run_properties\": \"<azureml.automl.runtime.shared.model_wrappers.StandardScalerWrapper object at 0x7faf4d411400\", \"primary_metric\": 0.81578014, \"best_metric\": 0.83679078}, {\"run_id\": \"AutoML_ca19b72c-5a6a-4c23-a502-59e8d4f2094c_6\", \"run_number\": 11, \"metric\": null, \"status\": \"Completed\", \"run_type\": \"azureml.scriptrun\", \"training_percent\": \"100\", \"start_time\": \"2021-02-05T09:49:21.788391Z\", \"end_time\": \"2021-02-05T09:50:11.896671Z\", \"created_time\": \"2021-02-05T09:49:07.779658Z\", \"created_time_dt\": \"2021-02-05T09:49:07.779658Z\", \"duration\": \"0:01:04\", \"iteration\": \"6\", \"goal\": \"accuracy_max\", \"run_name\": \"MinMaxScaler, SVM\", \"run_properties\": \"copy=True, feature_range=(0, 1\", \"primary_metric\": 0.71542553, \"best_metric\": 0.83679078}, {\"run_id\": \"AutoML_ca19b72c-5a6a-4c23-a502-59e8d4f2094c_7\", \"run_number\": 12, \"metric\": null, \"status\": \"Completed\", \"run_type\": \"azureml.scriptrun\", \"training_percent\": \"100\", \"start_time\": \"2021-02-05T09:50:29.870303Z\", \"end_time\": \"2021-02-05T09:51:19.304384Z\", \"created_time\": \"2021-02-05T09:50:14.617154Z\", \"created_time_dt\": \"2021-02-05T09:50:14.617154Z\", \"duration\": \"0:01:04\", \"iteration\": \"7\", \"goal\": \"accuracy_max\", \"run_name\": \"MaxAbsScaler, GradientBoosting\", \"run_properties\": \"copy=True\", \"primary_metric\": 0.83262411, \"best_metric\": 0.83679078}, {\"run_id\": \"AutoML_ca19b72c-5a6a-4c23-a502-59e8d4f2094c_8\", \"run_number\": 13, \"metric\": null, \"status\": \"Completed\", \"run_type\": \"azureml.scriptrun\", \"training_percent\": \"100\", \"start_time\": \"2021-02-05T09:51:31.663074Z\", \"end_time\": \"2021-02-05T09:52:19.335127Z\", \"created_time\": \"2021-02-05T09:51:21.48066Z\", \"created_time_dt\": \"2021-02-05T09:51:21.48066Z\", \"duration\": \"0:00:57\", \"iteration\": \"8\", \"goal\": \"accuracy_max\", \"run_name\": \"SparseNormalizer, LightGBM\", \"run_properties\": \"<azureml.automl.runtime.shared.model_wrappers.SparseNormalizer object at 0x7f81d166a0b8\", \"primary_metric\": 0.79920213, \"best_metric\": 0.83679078}, {\"run_id\": \"AutoML_ca19b72c-5a6a-4c23-a502-59e8d4f2094c_9\", \"run_number\": 14, \"metric\": null, \"status\": \"Completed\", \"run_type\": \"azureml.scriptrun\", \"training_percent\": \"100\", \"start_time\": \"2021-02-05T09:52:00.938464Z\", \"end_time\": \"2021-02-05T09:52:59.670561Z\", \"created_time\": \"2021-02-05T09:51:49.014572Z\", \"created_time_dt\": \"2021-02-05T09:51:49.014572Z\", \"duration\": \"0:01:10\", \"iteration\": \"9\", \"goal\": \"accuracy_max\", \"run_name\": \"StandardScalerWrapper, RandomForest\", \"run_properties\": \"<azureml.automl.runtime.shared.model_wrappers.StandardScalerWrapper object at 0x7f315a380978\", \"primary_metric\": 0.84095745, \"best_metric\": 0.84095745}, {\"run_id\": \"AutoML_ca19b72c-5a6a-4c23-a502-59e8d4f2094c_10\", \"run_number\": 15, \"metric\": null, \"status\": \"Completed\", \"run_type\": \"azureml.scriptrun\", \"training_percent\": \"100\", \"start_time\": \"2021-02-05T09:52:11.736567Z\", \"end_time\": \"2021-02-05T09:53:05.060956Z\", \"created_time\": \"2021-02-05T09:52:01.649902Z\", \"created_time_dt\": \"2021-02-05T09:52:01.649902Z\", \"duration\": \"0:01:03\", \"iteration\": \"10\", \"goal\": \"accuracy_max\", \"run_name\": \"SparseNormalizer, XGBoostClassifier\", \"run_properties\": \"<azureml.automl.runtime.shared.model_wrappers.SparseNormalizer object at 0x7f81f9e9fc50\", \"primary_metric\": 0.83670213, \"best_metric\": 0.84095745}, {\"run_id\": \"AutoML_ca19b72c-5a6a-4c23-a502-59e8d4f2094c_11\", \"run_number\": 16, \"metric\": null, \"status\": \"Completed\", \"run_type\": \"azureml.scriptrun\", \"training_percent\": \"100\", \"start_time\": \"2021-02-05T09:52:25.221732Z\", \"end_time\": \"2021-02-05T09:53:17.030996Z\", \"created_time\": \"2021-02-05T09:52:12.045857Z\", \"created_time_dt\": \"2021-02-05T09:52:12.045857Z\", \"duration\": \"0:01:04\", \"iteration\": \"11\", \"goal\": \"accuracy_max\", \"run_name\": \"MaxAbsScaler, LightGBM\", \"run_properties\": \"copy=True\", \"primary_metric\": 0.7910461, \"best_metric\": 0.84095745}, {\"run_id\": \"AutoML_ca19b72c-5a6a-4c23-a502-59e8d4f2094c_12\", \"run_number\": 17, \"metric\": null, \"status\": \"Completed\", \"run_type\": \"azureml.scriptrun\", \"training_percent\": \"100\", \"start_time\": \"2021-02-05T09:52:34.662504Z\", \"end_time\": \"2021-02-05T09:53:29.443216Z\", \"created_time\": \"2021-02-05T09:52:22.499161Z\", \"created_time_dt\": \"2021-02-05T09:52:22.499161Z\", \"duration\": \"0:01:06\", \"iteration\": \"12\", \"goal\": \"accuracy_max\", \"run_name\": \"RobustScaler, ExtremeRandomTrees\", \"run_properties\": \"copy=True, quantile_range=[25, 75], with_centering=True,\\n             with_scaling=False\", \"primary_metric\": 0.82836879, \"best_metric\": 0.84095745}, {\"run_id\": \"AutoML_ca19b72c-5a6a-4c23-a502-59e8d4f2094c_13\", \"run_number\": 18, \"metric\": null, \"status\": \"Completed\", \"run_type\": \"azureml.scriptrun\", \"training_percent\": \"100\", \"start_time\": \"2021-02-05T09:53:12.935999Z\", \"end_time\": \"2021-02-05T09:54:06.603672Z\", \"created_time\": \"2021-02-05T09:53:02.799089Z\", \"created_time_dt\": \"2021-02-05T09:53:02.799089Z\", \"duration\": \"0:01:03\", \"iteration\": \"13\", \"goal\": \"accuracy_max\", \"run_name\": \"StandardScalerWrapper, LightGBM\", \"run_properties\": \"<azureml.automl.runtime.shared.model_wrappers.StandardScalerWrapper object at 0x7fd1a2a77e48\", \"primary_metric\": 0.79929078, \"best_metric\": 0.84095745}, {\"run_id\": \"AutoML_ca19b72c-5a6a-4c23-a502-59e8d4f2094c_14\", \"run_number\": 19, \"metric\": null, \"status\": \"Completed\", \"run_type\": \"azureml.scriptrun\", \"training_percent\": \"100\", \"start_time\": \"2021-02-05T09:53:20.30055Z\", \"end_time\": \"2021-02-05T09:54:07.539785Z\", \"created_time\": \"2021-02-05T09:53:06.726682Z\", \"created_time_dt\": \"2021-02-05T09:53:06.726682Z\", \"duration\": \"0:01:00\", \"iteration\": \"14\", \"goal\": \"accuracy_max\", \"run_name\": \"StandardScalerWrapper, LightGBM\", \"run_properties\": \"<azureml.automl.runtime.shared.model_wrappers.StandardScalerWrapper object at 0x7f2ebed23710\", \"primary_metric\": 0.83271277, \"best_metric\": 0.84095745}, {\"run_id\": \"AutoML_ca19b72c-5a6a-4c23-a502-59e8d4f2094c_15\", \"run_number\": 20, \"metric\": null, \"status\": \"Completed\", \"run_type\": \"azureml.scriptrun\", \"training_percent\": \"100\", \"start_time\": \"2021-02-05T09:53:42.751879Z\", \"end_time\": \"2021-02-05T09:54:36.413789Z\", \"created_time\": \"2021-02-05T09:53:31.744145Z\", \"created_time_dt\": \"2021-02-05T09:53:31.744145Z\", \"duration\": \"0:01:04\", \"iteration\": \"15\", \"goal\": \"accuracy_max\", \"run_name\": \"MinMaxScaler, LightGBM\", \"run_properties\": \"copy=True, feature_range=(0, 1\", \"primary_metric\": 0.82836879, \"best_metric\": 0.84095745}, {\"run_id\": \"AutoML_ca19b72c-5a6a-4c23-a502-59e8d4f2094c_16\", \"run_number\": 21, \"metric\": null, \"status\": \"Completed\", \"run_type\": \"azureml.scriptrun\", \"training_percent\": \"100\", \"start_time\": \"2021-02-05T09:54:00.577646Z\", \"end_time\": \"2021-02-05T09:54:57.514991Z\", \"created_time\": \"2021-02-05T09:53:49.83797Z\", \"created_time_dt\": \"2021-02-05T09:53:49.83797Z\", \"duration\": \"0:01:07\", \"iteration\": \"16\", \"goal\": \"accuracy_max\", \"run_name\": \"StandardScalerWrapper, RandomForest\", \"run_properties\": \"<azureml.automl.runtime.shared.model_wrappers.StandardScalerWrapper object at 0x7fb088454e48\", \"primary_metric\": 0.83262411, \"best_metric\": 0.84095745}, {\"run_id\": \"AutoML_ca19b72c-5a6a-4c23-a502-59e8d4f2094c_17\", \"run_number\": 22, \"metric\": null, \"status\": \"Completed\", \"run_type\": \"azureml.scriptrun\", \"training_percent\": \"100\", \"start_time\": \"2021-02-05T09:54:18.801746Z\", \"end_time\": \"2021-02-05T09:55:23.060518Z\", \"created_time\": \"2021-02-05T09:54:08.349568Z\", \"created_time_dt\": \"2021-02-05T09:54:08.349568Z\", \"duration\": \"0:01:14\", \"iteration\": \"17\", \"goal\": \"accuracy_max\", \"run_name\": \"SparseNormalizer, XGBoostClassifier\", \"run_properties\": \"<azureml.automl.runtime.shared.model_wrappers.SparseNormalizer object at 0x7f86be600518\", \"primary_metric\": 0.84911348, \"best_metric\": 0.84911348}, {\"run_id\": \"AutoML_ca19b72c-5a6a-4c23-a502-59e8d4f2094c_18\", \"run_number\": 23, \"metric\": null, \"status\": \"Completed\", \"run_type\": \"azureml.scriptrun\", \"training_percent\": \"100\", \"start_time\": \"2021-02-05T09:54:25.622387Z\", \"end_time\": \"2021-02-05T09:55:14.719032Z\", \"created_time\": \"2021-02-05T09:54:11.537391Z\", \"created_time_dt\": \"2021-02-05T09:54:11.537391Z\", \"duration\": \"0:01:03\", \"iteration\": \"18\", \"goal\": \"accuracy_max\", \"run_name\": \"MinMaxScaler, LightGBM\", \"run_properties\": \"copy=True, feature_range=(0, 1\", \"primary_metric\": 0.81161348, \"best_metric\": 0.84911348}, {\"run_id\": \"AutoML_ca19b72c-5a6a-4c23-a502-59e8d4f2094c_19\", \"run_number\": 24, \"metric\": null, \"status\": \"Completed\", \"run_type\": \"azureml.scriptrun\", \"training_percent\": \"100\", \"start_time\": \"2021-02-05T09:54:50.107487Z\", \"end_time\": \"2021-02-05T09:55:38.918913Z\", \"created_time\": \"2021-02-05T09:54:38.801344Z\", \"created_time_dt\": \"2021-02-05T09:54:38.801344Z\", \"duration\": \"0:01:00\", \"iteration\": \"19\", \"goal\": \"accuracy_max\", \"run_name\": \"StandardScalerWrapper, LightGBM\", \"run_properties\": \"<azureml.automl.runtime.shared.model_wrappers.StandardScalerWrapper object at 0x7f764b938a58\", \"primary_metric\": 0.82429078, \"best_metric\": 0.84911348}, {\"run_id\": \"AutoML_ca19b72c-5a6a-4c23-a502-59e8d4f2094c_20\", \"run_number\": 25, \"metric\": null, \"status\": \"Completed\", \"run_type\": \"azureml.scriptrun\", \"training_percent\": \"100\", \"start_time\": \"2021-02-05T09:55:14.937176Z\", \"end_time\": \"2021-02-05T09:56:07.780207Z\", \"created_time\": \"2021-02-05T09:54:59.310882Z\", \"created_time_dt\": \"2021-02-05T09:54:59.310882Z\", \"duration\": \"0:01:08\", \"iteration\": \"20\", \"goal\": \"accuracy_max\", \"run_name\": \"RobustScaler, ExtremeRandomTrees\", \"run_properties\": \"copy=True, quantile_range=[25, 75], with_centering=True,\\n             with_scaling=False\", \"primary_metric\": 0.82845745, \"best_metric\": 0.84911348}, {\"run_id\": \"AutoML_ca19b72c-5a6a-4c23-a502-59e8d4f2094c_21\", \"run_number\": 26, \"metric\": null, \"status\": \"Completed\", \"run_type\": \"azureml.scriptrun\", \"training_percent\": \"100\", \"start_time\": \"2021-02-05T09:55:31.03338Z\", \"end_time\": \"2021-02-05T09:56:23.426441Z\", \"created_time\": \"2021-02-05T09:55:18.27405Z\", \"created_time_dt\": \"2021-02-05T09:55:18.27405Z\", \"duration\": \"0:01:05\", \"iteration\": \"21\", \"goal\": \"accuracy_max\", \"run_name\": \"StandardScalerWrapper, XGBoostClassifier\", \"run_properties\": \"<azureml.automl.runtime.shared.model_wrappers.StandardScalerWrapper object at 0x7f2020c0c128\", \"primary_metric\": 0.83679078, \"best_metric\": 0.84911348}, {\"run_id\": \"AutoML_ca19b72c-5a6a-4c23-a502-59e8d4f2094c_22\", \"run_number\": 27, \"metric\": null, \"status\": \"Completed\", \"run_type\": \"azureml.scriptrun\", \"training_percent\": \"100\", \"start_time\": \"2021-02-05T09:55:37.622237Z\", \"end_time\": \"2021-02-05T09:56:30.0362Z\", \"created_time\": \"2021-02-05T09:55:25.511542Z\", \"created_time_dt\": \"2021-02-05T09:55:25.511542Z\", \"duration\": \"0:01:04\", \"iteration\": \"22\", \"goal\": \"accuracy_max\", \"run_name\": \"MaxAbsScaler, RandomForest\", \"run_properties\": \"copy=True\", \"primary_metric\": 0.81586879, \"best_metric\": 0.84911348}, {\"run_id\": \"AutoML_ca19b72c-5a6a-4c23-a502-59e8d4f2094c_23\", \"run_number\": 28, \"metric\": null, \"status\": \"Completed\", \"run_type\": \"azureml.scriptrun\", \"training_percent\": \"100\", \"start_time\": \"2021-02-05T09:55:52.021148Z\", \"end_time\": \"2021-02-05T09:56:47.341272Z\", \"created_time\": \"2021-02-05T09:55:41.137839Z\", \"created_time_dt\": \"2021-02-05T09:55:41.137839Z\", \"duration\": \"0:01:06\", \"iteration\": \"23\", \"goal\": \"accuracy_max\", \"run_name\": \"MaxAbsScaler, LightGBM\", \"run_properties\": \"copy=True\", \"primary_metric\": 0.80328014, \"best_metric\": 0.84911348}, {\"run_id\": \"AutoML_ca19b72c-5a6a-4c23-a502-59e8d4f2094c_24\", \"run_number\": 29, \"metric\": null, \"status\": \"Completed\", \"run_type\": \"azureml.scriptrun\", \"training_percent\": \"100\", \"start_time\": \"2021-02-05T09:56:21.359005Z\", \"end_time\": \"2021-02-05T09:57:21.147648Z\", \"created_time\": \"2021-02-05T09:56:09.8075Z\", \"created_time_dt\": \"2021-02-05T09:56:09.8075Z\", \"duration\": \"0:01:11\", \"iteration\": \"24\", \"goal\": \"accuracy_max\", \"run_name\": \"RobustScaler, LightGBM\", \"run_properties\": \"copy=True, quantile_range=[25, 75], with_centering=False,\\n             with_scaling=False\", \"primary_metric\": 0.82021277, \"best_metric\": 0.84911348}, {\"run_id\": \"AutoML_ca19b72c-5a6a-4c23-a502-59e8d4f2094c_25\", \"run_number\": 30, \"metric\": null, \"status\": \"Completed\", \"run_type\": \"azureml.scriptrun\", \"training_percent\": \"100\", \"start_time\": \"2021-02-05T09:56:42.10021Z\", \"end_time\": \"2021-02-05T09:57:37.761756Z\", \"created_time\": \"2021-02-05T09:56:26.285533Z\", \"created_time_dt\": \"2021-02-05T09:56:26.285533Z\", \"duration\": \"0:01:11\", \"iteration\": \"25\", \"goal\": \"accuracy_max\", \"run_name\": \"SparseNormalizer, XGBoostClassifier\", \"run_properties\": \"<azureml.automl.runtime.shared.model_wrappers.SparseNormalizer object at 0x7f87616ee278\", \"primary_metric\": 0.69503546, \"best_metric\": 0.84911348}, {\"run_id\": \"AutoML_ca19b72c-5a6a-4c23-a502-59e8d4f2094c_26\", \"run_number\": 31, \"metric\": null, \"status\": \"Completed\", \"run_type\": \"azureml.scriptrun\", \"training_percent\": \"100\", \"start_time\": \"2021-02-05T09:56:47.320168Z\", \"end_time\": \"2021-02-05T09:57:38.110495Z\", \"created_time\": \"2021-02-05T09:56:33.850534Z\", \"created_time_dt\": \"2021-02-05T09:56:33.850534Z\", \"duration\": \"0:01:04\", \"iteration\": \"26\", \"goal\": \"accuracy_max\", \"run_name\": \"SparseNormalizer, RandomForest\", \"run_properties\": \"<azureml.automl.runtime.shared.model_wrappers.SparseNormalizer object at 0x7f9f940307f0\", \"primary_metric\": 0.81533688, \"best_metric\": 0.84911348}, {\"run_id\": \"AutoML_ca19b72c-5a6a-4c23-a502-59e8d4f2094c_27\", \"run_number\": 32, \"metric\": null, \"status\": \"Completed\", \"run_type\": \"azureml.scriptrun\", \"training_percent\": \"100\", \"start_time\": \"2021-02-05T09:57:00.049606Z\", \"end_time\": \"2021-02-05T09:57:56.391878Z\", \"created_time\": \"2021-02-05T09:56:49.111457Z\", \"created_time_dt\": \"2021-02-05T09:56:49.111457Z\", \"duration\": \"0:01:07\", \"iteration\": \"27\", \"goal\": \"accuracy_max\", \"run_name\": \"StandardScalerWrapper, LightGBM\", \"run_properties\": \"<azureml.automl.runtime.shared.model_wrappers.StandardScalerWrapper object at 0x7f45cdc089e8\", \"primary_metric\": 0.82836879, \"best_metric\": 0.84911348}, {\"run_id\": \"AutoML_ca19b72c-5a6a-4c23-a502-59e8d4f2094c_28\", \"run_number\": 33, \"metric\": null, \"status\": \"Completed\", \"run_type\": \"azureml.scriptrun\", \"training_percent\": \"100\", \"start_time\": \"2021-02-05T09:57:37.246925Z\", \"end_time\": \"2021-02-05T09:58:27.604981Z\", \"created_time\": \"2021-02-05T09:57:22.904855Z\", \"created_time_dt\": \"2021-02-05T09:57:22.904855Z\", \"duration\": \"0:01:04\", \"iteration\": \"28\", \"goal\": \"accuracy_max\", \"run_name\": \"MaxAbsScaler, ExtremeRandomTrees\", \"run_properties\": \"copy=True\", \"primary_metric\": 0.81586879, \"best_metric\": 0.84911348}, {\"run_id\": \"AutoML_ca19b72c-5a6a-4c23-a502-59e8d4f2094c_29\", \"run_number\": 34, \"metric\": null, \"status\": \"Completed\", \"run_type\": \"azureml.scriptrun\", \"training_percent\": \"100\", \"start_time\": \"2021-02-05T09:57:57.52369Z\", \"end_time\": \"2021-02-05T09:58:48.083065Z\", \"created_time\": \"2021-02-05T09:57:41.744831Z\", \"created_time_dt\": \"2021-02-05T09:57:41.744831Z\", \"duration\": \"0:01:06\", \"iteration\": \"29\", \"goal\": \"accuracy_max\", \"run_name\": \"SparseNormalizer, XGBoostClassifier\", \"run_properties\": \"<azureml.automl.runtime.shared.model_wrappers.SparseNormalizer object at 0x7fa028e29b00\", \"primary_metric\": 0.82819149, \"best_metric\": 0.84911348}, {\"run_id\": \"AutoML_ca19b72c-5a6a-4c23-a502-59e8d4f2094c_30\", \"run_number\": 35, \"metric\": null, \"status\": \"Completed\", \"run_type\": \"azureml.scriptrun\", \"training_percent\": \"100\", \"start_time\": \"2021-02-05T09:57:52.0114Z\", \"end_time\": \"2021-02-05T09:58:39.646815Z\", \"created_time\": \"2021-02-05T09:57:41.807913Z\", \"created_time_dt\": \"2021-02-05T09:57:41.807913Z\", \"duration\": \"0:00:57\", \"iteration\": \"30\", \"goal\": \"accuracy_max\", \"run_name\": \"RobustScaler, LightGBM\", \"run_properties\": \"copy=True, quantile_range=[25, 75], with_centering=True,\\n             with_scaling=True\", \"primary_metric\": 0.82411348, \"best_metric\": 0.84911348}, {\"run_id\": \"AutoML_ca19b72c-5a6a-4c23-a502-59e8d4f2094c_31\", \"run_number\": 36, \"metric\": null, \"status\": \"Completed\", \"run_type\": \"azureml.scriptrun\", \"training_percent\": \"100\", \"start_time\": \"2021-02-05T09:58:12.875983Z\", \"end_time\": \"2021-02-05T09:59:14.287267Z\", \"created_time\": \"2021-02-05T09:57:58.912946Z\", \"created_time_dt\": \"2021-02-05T09:57:58.912946Z\", \"duration\": \"0:01:15\", \"iteration\": \"31\", \"goal\": \"accuracy_max\", \"run_name\": \"MaxAbsScaler, LightGBM\", \"run_properties\": \"copy=True\", \"primary_metric\": 0.82012411, \"best_metric\": 0.84911348}, {\"run_id\": \"AutoML_ca19b72c-5a6a-4c23-a502-59e8d4f2094c_32\", \"run_number\": 37, \"metric\": null, \"status\": \"Completed\", \"run_type\": \"azureml.scriptrun\", \"training_percent\": \"100\", \"start_time\": \"2021-02-05T09:58:39.655344Z\", \"end_time\": \"2021-02-05T09:59:32.165573Z\", \"created_time\": \"2021-02-05T09:58:29.38377Z\", \"created_time_dt\": \"2021-02-05T09:58:29.38377Z\", \"duration\": \"0:01:02\", \"iteration\": \"32\", \"goal\": \"accuracy_max\", \"run_name\": \"MinMaxScaler, RandomForest\", \"run_properties\": \"copy=True, feature_range=(0, 1\", \"primary_metric\": 0.84095745, \"best_metric\": 0.84911348}, {\"run_id\": \"AutoML_ca19b72c-5a6a-4c23-a502-59e8d4f2094c_33\", \"run_number\": 38, \"metric\": null, \"status\": \"Canceled\", \"run_type\": \"azureml.scriptrun\", \"training_percent\": \"100\", \"start_time\": \"2021-02-05T09:58:53.437182Z\", \"end_time\": \"2021-02-05T09:59:41.491146Z\", \"created_time\": \"2021-02-05T09:58:41.416198Z\", \"created_time_dt\": \"2021-02-05T09:58:41.416198Z\", \"duration\": \"0:01:00\", \"iteration\": \"33\", \"goal\": \"accuracy_max\", \"run_name\": \"RobustScaler, RandomForest\", \"run_properties\": \"copy=True, quantile_range=[10, 90], with_centering=True,\\n             with_scaling=False\", \"primary_metric\": 0.84095745, \"best_metric\": 0.84911348}, {\"run_id\": \"AutoML_ca19b72c-5a6a-4c23-a502-59e8d4f2094c_34\", \"run_number\": 39, \"metric\": null, \"status\": \"Canceled\", \"run_type\": \"azureml.scriptrun\", \"training_percent\": \"100\", \"start_time\": \"2021-02-05T09:59:01.164055Z\", \"end_time\": \"2021-02-05T09:59:40.975004Z\", \"created_time\": \"2021-02-05T09:58:49.895428Z\", \"created_time_dt\": \"2021-02-05T09:58:49.895428Z\", \"duration\": \"0:00:51\", \"iteration\": \"34\", \"goal\": \"accuracy_max\", \"run_name\": \"MinMaxScaler, LightGBM\", \"run_properties\": \"copy=True, feature_range=(0, 1\", \"primary_metric\": 0.80345745, \"best_metric\": 0.84911348}, {\"run_id\": \"AutoML_ca19b72c-5a6a-4c23-a502-59e8d4f2094c_35\", \"run_number\": 40, \"metric\": null, \"status\": \"Canceled\", \"run_type\": \"azureml.scriptrun\", \"training_percent\": \"100\", \"start_time\": \"2021-02-05T09:59:31.020703Z\", \"end_time\": \"2021-02-05T09:59:41.155063Z\", \"created_time\": \"2021-02-05T09:59:17.39783Z\", \"created_time_dt\": \"2021-02-05T09:59:17.39783Z\", \"duration\": \"0:00:23\", \"iteration\": \"35\", \"goal\": null, \"run_name\": \"Canceled\", \"run_properties\": null}, {\"run_id\": \"AutoML_ca19b72c-5a6a-4c23-a502-59e8d4f2094c_36\", \"run_number\": 41, \"metric\": null, \"status\": \"Completed\", \"run_type\": \"azureml.scriptrun\", \"training_percent\": \"100\", \"start_time\": \"2021-02-05T09:59:54.490553Z\", \"end_time\": \"2021-02-05T10:01:41.949292Z\", \"created_time\": \"2021-02-05T09:59:42.381405Z\", \"created_time_dt\": \"2021-02-05T09:59:42.381405Z\", \"duration\": \"0:01:59\", \"iteration\": \"36\", \"goal\": \"accuracy_max\", \"run_name\": \"VotingEnsemble\", \"run_properties\": \"classification_labels=None,\\n                              estimators=[('17',\\n                                           Pipeline(memory=None,\\n                                                    steps=[('sparsenormalizer',\\n                                                            <azureml.automl.runtime.shared.model_wrappers.SparseNormalizer object at 0x7f8cc4f79908>\", \"primary_metric\": 0.86179078, \"best_metric\": 0.86179078}, {\"run_id\": \"AutoML_ca19b72c-5a6a-4c23-a502-59e8d4f2094c_37\", \"run_number\": 42, \"metric\": null, \"status\": \"Completed\", \"run_type\": \"azureml.scriptrun\", \"training_percent\": \"100\", \"start_time\": \"2021-02-05T09:59:55.224597Z\", \"end_time\": \"2021-02-05T10:01:50.096021Z\", \"created_time\": \"2021-02-05T09:59:42.58108Z\", \"created_time_dt\": \"2021-02-05T09:59:42.58108Z\", \"duration\": \"0:02:07\", \"iteration\": \"37\", \"goal\": \"accuracy_max\", \"run_name\": \"StackEnsemble\", \"run_properties\": \"base_learners=[('17',\\n                                        Pipeline(memory=None,\\n                                                 steps=[('sparsenormalizer',\\n                                                         <azureml.automl.runtime.shared.model_wrappers.SparseNormalizer object at 0x7f2c055d6780>\", \"primary_metric\": 0.84512411, \"best_metric\": 0.86179078}], \"children_metrics\": {\"categories\": [0], \"series\": {\"norm_macro_recall\": [{\"categories\": [\"0\", \"1\", \"2\", \"3\", \"4\", \"5\", \"6\", \"7\", \"8\", \"9\", \"10\", \"11\", \"12\", \"13\", \"14\", \"15\", \"16\", \"17\", \"18\", \"19\", \"20\", \"21\", \"22\", \"23\", \"24\", \"25\", \"26\", \"27\", \"28\", \"29\", \"30\", \"31\", \"32\", \"33\", \"34\", \"36\", \"37\"], \"mode\": \"markers\", \"name\": \"norm_macro_recall\", \"stepped\": false, \"type\": \"scatter\", \"data\": [0.5370196725026697, 0.5372355803145776, 0.5672816632638864, 0.549886090999893, 0.5616223226045457, 0.5214641169471141, 0.20378123960828937, 0.5726919295209268, 0.3865480395937052, 0.5593381667019687, 0.5787809667639638, 0.43379192214955725, 0.48483413473351555, 0.46530190361809254, 0.5404990735791945, 0.5664039505053686, 0.5570126838772599, 0.5994535487565799, 0.5123449754940068, 0.5593399339405781, 0.5027309601303409, 0.5656570252932482, 0.4676892445193655, 0.42827599730850496, 0.4876981906122773, 0.0, 0.5764632119880296, 0.570111067760873, 0.5607210438700752, 0.5525359342073862, 0.5493487323317294, 0.49056506151282947, 0.5865032749854981, 0.5929233611079712, 0.4547043193665085, 0.6287318976173466, 0.5917874531729022]}, {\"categories\": [\"0\", \"1\", \"2\", \"3\", \"4\", \"5\", \"6\", \"7\", \"8\", \"9\", \"10\", \"11\", \"12\", \"13\", \"14\", \"15\", \"16\", \"17\", \"18\", \"19\", \"20\", \"21\", \"22\", \"23\", \"24\", \"25\", \"26\", \"27\", \"28\", \"29\", \"30\", \"31\", \"32\", \"33\", \"34\", \"36\", \"37\"], \"mode\": \"lines\", \"name\": \"norm_macro_recall_max\", \"stepped\": true, \"type\": \"scatter\", \"data\": [0.5370196725026697, 0.5372355803145776, 0.5672816632638864, 0.5672816632638864, 0.5672816632638864, 0.5672816632638864, 0.5672816632638864, 0.5726919295209268, 0.5726919295209268, 0.5726919295209268, 0.5787809667639638, 0.5787809667639638, 0.5787809667639638, 0.5787809667639638, 0.5787809667639638, 0.5787809667639638, 0.5787809667639638, 0.5994535487565799, 0.5994535487565799, 0.5994535487565799, 0.5994535487565799, 0.5994535487565799, 0.5994535487565799, 0.5994535487565799, 0.5994535487565799, 0.5994535487565799, 0.5994535487565799, 0.5994535487565799, 0.5994535487565799, 0.5994535487565799, 0.5994535487565799, 0.5994535487565799, 0.5994535487565799, 0.5994535487565799, 0.5994535487565799, 0.6287318976173466, 0.6287318976173466]}], \"AUC_micro\": [{\"categories\": [\"0\", \"1\", \"2\", \"3\", \"4\", \"5\", \"6\", \"7\", \"8\", \"9\", \"10\", \"11\", \"12\", \"13\", \"14\", \"15\", \"16\", \"17\", \"18\", \"19\", \"20\", \"21\", \"22\", \"23\", \"24\", \"25\", \"26\", \"27\", \"28\", \"29\", \"30\", \"31\", \"32\", \"33\", \"34\", \"36\", \"37\"], \"mode\": \"markers\", \"name\": \"AUC_micro\", \"stepped\": false, \"type\": \"scatter\", \"data\": [0.8900818856571601, 0.885853602371611, 0.9104419341959661, 0.9074924315301042, 0.9000145789321463, 0.9083950285448419, 0.7626901745070669, 0.9014207189024697, 0.8738763219279715, 0.9056900275388562, 0.9085695827674665, 0.8754014511342488, 0.9020806611840451, 0.8815749019164028, 0.9017996532493335, 0.9010576209697702, 0.9043077011342489, 0.9001625295508273, 0.8880573396081687, 0.8979942375886523, 0.9042199917634928, 0.8962964010864646, 0.9020796787762185, 0.889201648244555, 0.9037737821286654, 0.6950354609929079, 0.8808880416603794, 0.8991105672501384, 0.88191846958151, 0.8909546174739701, 0.8952304492983248, 0.8910143085735124, 0.9039632689502541, 0.9021543810673508, 0.8869605795105879, 0.9135314889215834, 0.9016288714727629]}, {\"categories\": [\"0\", \"1\", \"2\", \"3\", \"4\", \"5\", \"6\", \"7\", \"8\", \"9\", \"10\", \"11\", \"12\", \"13\", \"14\", \"15\", \"16\", \"17\", \"18\", \"19\", \"20\", \"21\", \"22\", \"23\", \"24\", \"25\", \"26\", \"27\", \"28\", \"29\", \"30\", \"31\", \"32\", \"33\", \"34\", \"36\", \"37\"], \"mode\": \"lines\", \"name\": \"AUC_micro_max\", \"stepped\": true, \"type\": \"scatter\", \"data\": [0.8900818856571601, 0.8900818856571601, 0.9104419341959661, 0.9104419341959661, 0.9104419341959661, 0.9104419341959661, 0.9104419341959661, 0.9104419341959661, 0.9104419341959661, 0.9104419341959661, 0.9104419341959661, 0.9104419341959661, 0.9104419341959661, 0.9104419341959661, 0.9104419341959661, 0.9104419341959661, 0.9104419341959661, 0.9104419341959661, 0.9104419341959661, 0.9104419341959661, 0.9104419341959661, 0.9104419341959661, 0.9104419341959661, 0.9104419341959661, 0.9104419341959661, 0.9104419341959661, 0.9104419341959661, 0.9104419341959661, 0.9104419341959661, 0.9104419341959661, 0.9104419341959661, 0.9104419341959661, 0.9104419341959661, 0.9104419341959661, 0.9104419341959661, 0.9135314889215834, 0.9135314889215834]}], \"f1_score_micro\": [{\"categories\": [\"0\", \"1\", \"2\", \"3\", \"4\", \"5\", \"6\", \"7\", \"8\", \"9\", \"10\", \"11\", \"12\", \"13\", \"14\", \"15\", \"16\", \"17\", \"18\", \"19\", \"20\", \"21\", \"22\", \"23\", \"24\", \"25\", \"26\", \"27\", \"28\", \"29\", \"30\", \"31\", \"32\", \"33\", \"34\", \"36\", \"37\"], \"mode\": \"markers\", \"name\": \"f1_score_micro\", \"stepped\": false, \"type\": \"scatter\", \"data\": [0.815868794326241, 0.815868794326241, 0.8367907801418439, 0.8367907801418439, 0.824290780141844, 0.8157801418439717, 0.7154255319148936, 0.8326241134751774, 0.7992021276595744, 0.8409574468085106, 0.8367021276595745, 0.79104609929078, 0.8283687943262411, 0.799290780141844, 0.8327127659574469, 0.8283687943262411, 0.8326241134751774, 0.849113475177305, 0.811613475177305, 0.824290780141844, 0.8284574468085106, 0.8367907801418439, 0.815868794326241, 0.8032801418439716, 0.8202127659574469, 0.6950354609929078, 0.8153368794326241, 0.8283687943262411, 0.815868794326241, 0.8281914893617021, 0.8241134751773049, 0.8201241134751772, 0.8409574468085106, 0.8409574468085106, 0.8034574468085106, 0.861790780141844, 0.8451241134751774]}, {\"categories\": [\"0\", \"1\", \"2\", \"3\", \"4\", \"5\", \"6\", \"7\", \"8\", \"9\", \"10\", \"11\", \"12\", \"13\", \"14\", \"15\", \"16\", \"17\", \"18\", \"19\", \"20\", \"21\", \"22\", \"23\", \"24\", \"25\", \"26\", \"27\", \"28\", \"29\", \"30\", \"31\", \"32\", \"33\", \"34\", \"36\", \"37\"], \"mode\": \"lines\", \"name\": \"f1_score_micro_max\", \"stepped\": true, \"type\": \"scatter\", \"data\": [0.815868794326241, 0.815868794326241, 0.8367907801418439, 0.8367907801418439, 0.8367907801418439, 0.8367907801418439, 0.8367907801418439, 0.8367907801418439, 0.8367907801418439, 0.8409574468085106, 0.8409574468085106, 0.8409574468085106, 0.8409574468085106, 0.8409574468085106, 0.8409574468085106, 0.8409574468085106, 0.8409574468085106, 0.849113475177305, 0.849113475177305, 0.849113475177305, 0.849113475177305, 0.849113475177305, 0.849113475177305, 0.849113475177305, 0.849113475177305, 0.849113475177305, 0.849113475177305, 0.849113475177305, 0.849113475177305, 0.849113475177305, 0.849113475177305, 0.849113475177305, 0.849113475177305, 0.849113475177305, 0.849113475177305, 0.861790780141844, 0.861790780141844]}], \"average_precision_score_weighted\": [{\"categories\": [\"0\", \"1\", \"2\", \"3\", \"4\", \"5\", \"6\", \"7\", \"8\", \"9\", \"10\", \"11\", \"12\", \"13\", \"14\", \"15\", \"16\", \"17\", \"18\", \"19\", \"20\", \"21\", \"22\", \"23\", \"24\", \"25\", \"26\", \"27\", \"28\", \"29\", \"30\", \"31\", \"32\", \"33\", \"34\", \"36\", \"37\"], \"mode\": \"markers\", \"name\": \"average_precision_score_weighted\", \"stepped\": false, \"type\": \"scatter\", \"data\": [0.8845636425797547, 0.8853341256796405, 0.9136152895939544, 0.9109220474210737, 0.9021500817283972, 0.9050225632489273, 0.7358683052744592, 0.8950844197323582, 0.8775466302633774, 0.9062491427552251, 0.9070715940980663, 0.8607616840932547, 0.908943859371762, 0.8756389670582638, 0.9007434705306092, 0.9051406029290188, 0.8972422404445293, 0.9030605537533842, 0.8837262277958032, 0.9061623887087092, 0.9091148943304663, 0.9020692339500304, 0.9052101930398375, 0.8949563828840738, 0.908502154340874, 0.5849465255771842, 0.8830536215379026, 0.9021683902150734, 0.8963695881773017, 0.898316712649376, 0.8911989823174995, 0.8856628502614659, 0.9043635208150022, 0.9010658575364834, 0.894549329068178, 0.9140136313900673, 0.9043504970622985]}, {\"categories\": [\"0\", \"1\", \"2\", \"3\", \"4\", \"5\", \"6\", \"7\", \"8\", \"9\", \"10\", \"11\", \"12\", \"13\", \"14\", \"15\", \"16\", \"17\", \"18\", \"19\", \"20\", \"21\", \"22\", \"23\", \"24\", \"25\", \"26\", \"27\", \"28\", \"29\", \"30\", \"31\", \"32\", \"33\", \"34\", \"36\", \"37\"], \"mode\": \"lines\", \"name\": \"average_precision_score_weighted_max\", \"stepped\": true, \"type\": \"scatter\", \"data\": [0.8845636425797547, 0.8853341256796405, 0.9136152895939544, 0.9136152895939544, 0.9136152895939544, 0.9136152895939544, 0.9136152895939544, 0.9136152895939544, 0.9136152895939544, 0.9136152895939544, 0.9136152895939544, 0.9136152895939544, 0.9136152895939544, 0.9136152895939544, 0.9136152895939544, 0.9136152895939544, 0.9136152895939544, 0.9136152895939544, 0.9136152895939544, 0.9136152895939544, 0.9136152895939544, 0.9136152895939544, 0.9136152895939544, 0.9136152895939544, 0.9136152895939544, 0.9136152895939544, 0.9136152895939544, 0.9136152895939544, 0.9136152895939544, 0.9136152895939544, 0.9136152895939544, 0.9136152895939544, 0.9136152895939544, 0.9136152895939544, 0.9136152895939544, 0.9140136313900673, 0.9140136313900673]}], \"log_loss\": [{\"categories\": [\"0\", \"1\", \"2\", \"3\", \"4\", \"5\", \"6\", \"7\", \"8\", \"9\", \"10\", \"11\", \"12\", \"13\", \"14\", \"15\", \"16\", \"17\", \"18\", \"19\", \"20\", \"21\", \"22\", \"23\", \"24\", \"25\", \"26\", \"27\", \"28\", \"29\", \"30\", \"31\", \"32\", \"33\", \"34\", \"36\", \"37\"], \"mode\": \"markers\", \"name\": \"log_loss\", \"stepped\": false, \"type\": \"scatter\", \"data\": [0.4981789161053253, 0.46397689321676905, 0.3828514095446255, 0.38720690177915834, 0.400343763478279, 0.38706387734855496, 0.607211136651757, 0.39742722928399166, 0.4609808982547867, 0.39551957394212856, 0.38696135938722886, 0.4731472603886557, 0.41634495110534947, 0.47087263164520293, 0.4110400497051618, 0.38883672256083396, 0.39208043207438287, 0.3976117929558712, 0.416373560375055, 0.3970967194149192, 0.41027051031467376, 0.4346220745496918, 0.4207864422912744, 0.4481026193646692, 0.42053556466658293, 0.6207788401314506, 0.4303962872897876, 0.4215914428136802, 0.47253498314772335, 0.42790894673459406, 0.40880578527638567, 0.4497321859658829, 0.39185839752524565, 0.3937708270034119, 0.4550442605854862, 0.3876625683843984, 0.40572029102488677]}, {\"categories\": [\"0\", \"1\", \"2\", \"3\", \"4\", \"5\", \"6\", \"7\", \"8\", \"9\", \"10\", \"11\", \"12\", \"13\", \"14\", \"15\", \"16\", \"17\", \"18\", \"19\", \"20\", \"21\", \"22\", \"23\", \"24\", \"25\", \"26\", \"27\", \"28\", \"29\", \"30\", \"31\", \"32\", \"33\", \"34\", \"36\", \"37\"], \"mode\": \"lines\", \"name\": \"log_loss_min\", \"stepped\": true, \"type\": \"scatter\", \"data\": [0.4981789161053253, 0.46397689321676905, 0.3828514095446255, 0.3828514095446255, 0.3828514095446255, 0.3828514095446255, 0.3828514095446255, 0.3828514095446255, 0.3828514095446255, 0.3828514095446255, 0.3828514095446255, 0.3828514095446255, 0.3828514095446255, 0.3828514095446255, 0.3828514095446255, 0.3828514095446255, 0.3828514095446255, 0.3828514095446255, 0.3828514095446255, 0.3828514095446255, 0.3828514095446255, 0.3828514095446255, 0.3828514095446255, 0.3828514095446255, 0.3828514095446255, 0.3828514095446255, 0.3828514095446255, 0.3828514095446255, 0.3828514095446255, 0.3828514095446255, 0.3828514095446255, 0.3828514095446255, 0.3828514095446255, 0.3828514095446255, 0.3828514095446255, 0.3828514095446255, 0.3828514095446255]}], \"AUC_macro\": [{\"categories\": [\"0\", \"1\", \"2\", \"3\", \"4\", \"5\", \"6\", \"7\", \"8\", \"9\", \"10\", \"11\", \"12\", \"13\", \"14\", \"15\", \"16\", \"17\", \"18\", \"19\", \"20\", \"21\", \"22\", \"23\", \"24\", \"25\", \"26\", \"27\", \"28\", \"29\", \"30\", \"31\", \"32\", \"33\", \"34\", \"36\", \"37\"], \"mode\": \"markers\", \"name\": \"AUC_macro\", \"stepped\": false, \"type\": \"scatter\", \"data\": [0.8660496158044502, 0.8638391311437836, 0.8999735924863103, 0.896434167544443, 0.8851914540915949, 0.8833136462497512, 0.6528543738968858, 0.8802476487652946, 0.8483520560335311, 0.8889659491132733, 0.8894334559980704, 0.8517901479678981, 0.8856754466452716, 0.8684568273415779, 0.8854308992739892, 0.8781775252096725, 0.8881593552192946, 0.8802271962473153, 0.8594090035543334, 0.8793179501536841, 0.8876145570593647, 0.8792678907460239, 0.8855254119132562, 0.8764678392779051, 0.8869906072019887, 0.5, 0.8479535735742356, 0.8831403596461911, 0.8679428114343193, 0.870722308953819, 0.8701058310932662, 0.8734685767559205, 0.8920054660365772, 0.8832847873225227, 0.8799819294952302, 0.9011736275897398, 0.8882739626240264]}, {\"categories\": [\"0\", \"1\", \"2\", \"3\", \"4\", \"5\", \"6\", \"7\", \"8\", \"9\", \"10\", \"11\", \"12\", \"13\", \"14\", \"15\", \"16\", \"17\", \"18\", \"19\", \"20\", \"21\", \"22\", \"23\", \"24\", \"25\", \"26\", \"27\", \"28\", \"29\", \"30\", \"31\", \"32\", \"33\", \"34\", \"36\", \"37\"], \"mode\": \"lines\", \"name\": \"AUC_macro_max\", \"stepped\": true, \"type\": \"scatter\", \"data\": [0.8660496158044502, 0.8660496158044502, 0.8999735924863103, 0.8999735924863103, 0.8999735924863103, 0.8999735924863103, 0.8999735924863103, 0.8999735924863103, 0.8999735924863103, 0.8999735924863103, 0.8999735924863103, 0.8999735924863103, 0.8999735924863103, 0.8999735924863103, 0.8999735924863103, 0.8999735924863103, 0.8999735924863103, 0.8999735924863103, 0.8999735924863103, 0.8999735924863103, 0.8999735924863103, 0.8999735924863103, 0.8999735924863103, 0.8999735924863103, 0.8999735924863103, 0.8999735924863103, 0.8999735924863103, 0.8999735924863103, 0.8999735924863103, 0.8999735924863103, 0.8999735924863103, 0.8999735924863103, 0.8999735924863103, 0.8999735924863103, 0.8999735924863103, 0.9011736275897398, 0.9011736275897398]}], \"average_precision_score_macro\": [{\"categories\": [\"0\", \"1\", \"2\", \"3\", \"4\", \"5\", \"6\", \"7\", \"8\", \"9\", \"10\", \"11\", \"12\", \"13\", \"14\", \"15\", \"16\", \"17\", \"18\", \"19\", \"20\", \"21\", \"22\", \"23\", \"24\", \"25\", \"26\", \"27\", \"28\", \"29\", \"30\", \"31\", \"32\", \"33\", \"34\", \"36\", \"37\"], \"mode\": \"markers\", \"name\": \"average_precision_score_macro\", \"stepped\": false, \"type\": \"scatter\", \"data\": [0.8303188458883923, 0.8339203569202697, 0.8725456025000222, 0.8684206611157841, 0.8523002378673692, 0.8624107875402137, 0.6668615731097219, 0.8448829325979179, 0.8241436009430281, 0.8698556609808582, 0.8624399281097107, 0.8016879694377561, 0.8633276992724067, 0.8203901476713649, 0.8556760692717909, 0.8668432753767963, 0.8453050731745643, 0.8597148664714658, 0.8342441743706205, 0.865740374410365, 0.8637957109439393, 0.8565379602892523, 0.864425182903639, 0.8507194271630185, 0.8707574395638679, 0.5, 0.8354248012683841, 0.8579086698988636, 0.8496234613070917, 0.8535008076589552, 0.8465559781868597, 0.8292446808559253, 0.8558626609794633, 0.8522765070896992, 0.8502258075879275, 0.8691788718809359, 0.8590194595120477]}, {\"categories\": [\"0\", \"1\", \"2\", \"3\", \"4\", \"5\", \"6\", \"7\", \"8\", \"9\", \"10\", \"11\", \"12\", \"13\", \"14\", \"15\", \"16\", \"17\", \"18\", \"19\", \"20\", \"21\", \"22\", \"23\", \"24\", \"25\", \"26\", \"27\", \"28\", \"29\", \"30\", \"31\", \"32\", \"33\", \"34\", \"36\", \"37\"], \"mode\": \"lines\", \"name\": \"average_precision_score_macro_max\", \"stepped\": true, \"type\": \"scatter\", \"data\": [0.8303188458883923, 0.8339203569202697, 0.8725456025000222, 0.8725456025000222, 0.8725456025000222, 0.8725456025000222, 0.8725456025000222, 0.8725456025000222, 0.8725456025000222, 0.8725456025000222, 0.8725456025000222, 0.8725456025000222, 0.8725456025000222, 0.8725456025000222, 0.8725456025000222, 0.8725456025000222, 0.8725456025000222, 0.8725456025000222, 0.8725456025000222, 0.8725456025000222, 0.8725456025000222, 0.8725456025000222, 0.8725456025000222, 0.8725456025000222, 0.8725456025000222, 0.8725456025000222, 0.8725456025000222, 0.8725456025000222, 0.8725456025000222, 0.8725456025000222, 0.8725456025000222, 0.8725456025000222, 0.8725456025000222, 0.8725456025000222, 0.8725456025000222, 0.8725456025000222, 0.8725456025000222]}], \"balanced_accuracy\": [{\"categories\": [\"0\", \"1\", \"2\", \"3\", \"4\", \"5\", \"6\", \"7\", \"8\", \"9\", \"10\", \"11\", \"12\", \"13\", \"14\", \"15\", \"16\", \"17\", \"18\", \"19\", \"20\", \"21\", \"22\", \"23\", \"24\", \"25\", \"26\", \"27\", \"28\", \"29\", \"30\", \"31\", \"32\", \"33\", \"34\", \"36\", \"37\"], \"mode\": \"markers\", \"name\": \"balanced_accuracy\", \"stepped\": false, \"type\": \"scatter\", \"data\": [0.768509836251335, 0.7686177901572887, 0.7836408316319432, 0.7749430454999465, 0.780811161302273, 0.7607320584735571, 0.6018906198041447, 0.7863459647604634, 0.6932740197968525, 0.7796690833509843, 0.7893904833819819, 0.7168959610747787, 0.7424170673667578, 0.7326509518090463, 0.7702495367895973, 0.7832019752526843, 0.7785063419386299, 0.7997267743782899, 0.7561724877470033, 0.7796699669702891, 0.7513654800651703, 0.7828285126466241, 0.7338446222596827, 0.7141379986542525, 0.7438490953061387, 0.5, 0.7882316059940149, 0.7850555338804364, 0.7803605219350376, 0.7762679671036932, 0.7746743661658647, 0.7452825307564147, 0.7932516374927492, 0.7964616805539856, 0.7273521596832542, 0.8143659488086733, 0.7958937265864512]}, {\"categories\": [\"0\", \"1\", \"2\", \"3\", \"4\", \"5\", \"6\", \"7\", \"8\", \"9\", \"10\", \"11\", \"12\", \"13\", \"14\", \"15\", \"16\", \"17\", \"18\", \"19\", \"20\", \"21\", \"22\", \"23\", \"24\", \"25\", \"26\", \"27\", \"28\", \"29\", \"30\", \"31\", \"32\", \"33\", \"34\", \"36\", \"37\"], \"mode\": \"lines\", \"name\": \"balanced_accuracy_max\", \"stepped\": true, \"type\": \"scatter\", \"data\": [0.768509836251335, 0.7686177901572887, 0.7836408316319432, 0.7836408316319432, 0.7836408316319432, 0.7836408316319432, 0.7836408316319432, 0.7863459647604634, 0.7863459647604634, 0.7863459647604634, 0.7893904833819819, 0.7893904833819819, 0.7893904833819819, 0.7893904833819819, 0.7893904833819819, 0.7893904833819819, 0.7893904833819819, 0.7997267743782899, 0.7997267743782899, 0.7997267743782899, 0.7997267743782899, 0.7997267743782899, 0.7997267743782899, 0.7997267743782899, 0.7997267743782899, 0.7997267743782899, 0.7997267743782899, 0.7997267743782899, 0.7997267743782899, 0.7997267743782899, 0.7997267743782899, 0.7997267743782899, 0.7997267743782899, 0.7997267743782899, 0.7997267743782899, 0.8143659488086733, 0.8143659488086733]}], \"average_precision_score_micro\": [{\"categories\": [\"0\", \"1\", \"2\", \"3\", \"4\", \"5\", \"6\", \"7\", \"8\", \"9\", \"10\", \"11\", \"12\", \"13\", \"14\", \"15\", \"16\", \"17\", \"18\", \"19\", \"20\", \"21\", \"22\", \"23\", \"24\", \"25\", \"26\", \"27\", \"28\", \"29\", \"30\", \"31\", \"32\", \"33\", \"34\", \"36\", \"37\"], \"mode\": \"markers\", \"name\": \"average_precision_score_micro\", \"stepped\": false, \"type\": \"scatter\", \"data\": [0.8931242503964999, 0.884943898845496, 0.9156480590224886, 0.9097706243137885, 0.9056526643800972, 0.9125875312089894, 0.756600854747509, 0.9049341811757678, 0.8750632145010938, 0.9080228384846569, 0.9098202272502428, 0.8747563864331145, 0.9046511738819453, 0.8869931300719223, 0.9051116800806444, 0.9071781019221803, 0.9063040191510062, 0.900085750115035, 0.8907968787902408, 0.9031374183463641, 0.906688569574347, 0.8994734970094156, 0.9049576835361842, 0.8918693709600655, 0.9061423788108284, 0.6399909932850459, 0.8800696820185456, 0.9039452178580403, 0.8761526972211359, 0.8921998693028549, 0.8965513347255916, 0.8943765045372519, 0.9075643913594732, 0.906396752154472, 0.892036451693216, 0.9169739217642665, 0.9030440248241748]}, {\"categories\": [\"0\", \"1\", \"2\", \"3\", \"4\", \"5\", \"6\", \"7\", \"8\", \"9\", \"10\", \"11\", \"12\", \"13\", \"14\", \"15\", \"16\", \"17\", \"18\", \"19\", \"20\", \"21\", \"22\", \"23\", \"24\", \"25\", \"26\", \"27\", \"28\", \"29\", \"30\", \"31\", \"32\", \"33\", \"34\", \"36\", \"37\"], \"mode\": \"lines\", \"name\": \"average_precision_score_micro_max\", \"stepped\": true, \"type\": \"scatter\", \"data\": [0.8931242503964999, 0.8931242503964999, 0.9156480590224886, 0.9156480590224886, 0.9156480590224886, 0.9156480590224886, 0.9156480590224886, 0.9156480590224886, 0.9156480590224886, 0.9156480590224886, 0.9156480590224886, 0.9156480590224886, 0.9156480590224886, 0.9156480590224886, 0.9156480590224886, 0.9156480590224886, 0.9156480590224886, 0.9156480590224886, 0.9156480590224886, 0.9156480590224886, 0.9156480590224886, 0.9156480590224886, 0.9156480590224886, 0.9156480590224886, 0.9156480590224886, 0.9156480590224886, 0.9156480590224886, 0.9156480590224886, 0.9156480590224886, 0.9156480590224886, 0.9156480590224886, 0.9156480590224886, 0.9156480590224886, 0.9156480590224886, 0.9156480590224886, 0.9169739217642665, 0.9169739217642665]}], \"weighted_accuracy\": [{\"categories\": [\"0\", \"1\", \"2\", \"3\", \"4\", \"5\", \"6\", \"7\", \"8\", \"9\", \"10\", \"11\", \"12\", \"13\", \"14\", \"15\", \"16\", \"17\", \"18\", \"19\", \"20\", \"21\", \"22\", \"23\", \"24\", \"25\", \"26\", \"27\", \"28\", \"29\", \"30\", \"31\", \"32\", \"33\", \"34\", \"36\", \"37\"], \"mode\": \"markers\", \"name\": \"weighted_accuracy\", \"stepped\": false, \"type\": \"scatter\", \"data\": [0.8467521717587474, 0.8436770668987306, 0.8714596042367366, 0.87558449937672, 0.8526468352266937, 0.8504738046742087, 0.7937669209963075, 0.8618612206881954, 0.8682457859209258, 0.8795515008114402, 0.8683471024139365, 0.8423828186372508, 0.8837275574476093, 0.8450721532563445, 0.8740000352800056, 0.8594637185125951, 0.8685459170057467, 0.8828273217771715, 0.8462491083566575, 0.8554564211962272, 0.8794451880424301, 0.875199462803114, 0.8685045158407224, 0.8615153330040533, 0.8722945546487288, 0.8259491008302563, 0.8313065322890452, 0.8575644550023129, 0.8383189627678339, 0.8639962738042041, 0.8548389409726307, 0.8694636672389867, 0.8725703168144507, 0.8722026383172222, 0.8538813142978103, 0.8929530140884822, 0.8777079160492665]}, {\"categories\": [\"0\", \"1\", \"2\", \"3\", \"4\", \"5\", \"6\", \"7\", \"8\", \"9\", \"10\", \"11\", \"12\", \"13\", \"14\", \"15\", \"16\", \"17\", \"18\", \"19\", \"20\", \"21\", \"22\", \"23\", \"24\", \"25\", \"26\", \"27\", \"28\", \"29\", \"30\", \"31\", \"32\", \"33\", \"34\", \"36\", \"37\"], \"mode\": \"lines\", \"name\": \"weighted_accuracy_max\", \"stepped\": true, \"type\": \"scatter\", \"data\": [0.8467521717587474, 0.8467521717587474, 0.8714596042367366, 0.87558449937672, 0.87558449937672, 0.87558449937672, 0.87558449937672, 0.87558449937672, 0.87558449937672, 0.8795515008114402, 0.8795515008114402, 0.8795515008114402, 0.8837275574476093, 0.8837275574476093, 0.8837275574476093, 0.8837275574476093, 0.8837275574476093, 0.8837275574476093, 0.8837275574476093, 0.8837275574476093, 0.8837275574476093, 0.8837275574476093, 0.8837275574476093, 0.8837275574476093, 0.8837275574476093, 0.8837275574476093, 0.8837275574476093, 0.8837275574476093, 0.8837275574476093, 0.8837275574476093, 0.8837275574476093, 0.8837275574476093, 0.8837275574476093, 0.8837275574476093, 0.8837275574476093, 0.8929530140884822, 0.8929530140884822]}], \"recall_score_macro\": [{\"categories\": [\"0\", \"1\", \"2\", \"3\", \"4\", \"5\", \"6\", \"7\", \"8\", \"9\", \"10\", \"11\", \"12\", \"13\", \"14\", \"15\", \"16\", \"17\", \"18\", \"19\", \"20\", \"21\", \"22\", \"23\", \"24\", \"25\", \"26\", \"27\", \"28\", \"29\", \"30\", \"31\", \"32\", \"33\", \"34\", \"36\", \"37\"], \"mode\": \"markers\", \"name\": \"recall_score_macro\", \"stepped\": false, \"type\": \"scatter\", \"data\": [0.768509836251335, 0.7686177901572887, 0.7836408316319432, 0.7749430454999465, 0.780811161302273, 0.7607320584735571, 0.6018906198041447, 0.7863459647604634, 0.6932740197968525, 0.7796690833509843, 0.7893904833819819, 0.7168959610747787, 0.7424170673667578, 0.7326509518090463, 0.7702495367895973, 0.7832019752526843, 0.7785063419386299, 0.7997267743782899, 0.7561724877470033, 0.7796699669702891, 0.7513654800651703, 0.7828285126466241, 0.7338446222596827, 0.7141379986542525, 0.7438490953061387, 0.5, 0.7882316059940149, 0.7850555338804364, 0.7803605219350376, 0.7762679671036932, 0.7746743661658647, 0.7452825307564147, 0.7932516374927492, 0.7964616805539856, 0.7273521596832542, 0.8143659488086733, 0.7958937265864512]}, {\"categories\": [\"0\", \"1\", \"2\", \"3\", \"4\", \"5\", \"6\", \"7\", \"8\", \"9\", \"10\", \"11\", \"12\", \"13\", \"14\", \"15\", \"16\", \"17\", \"18\", \"19\", \"20\", \"21\", \"22\", \"23\", \"24\", \"25\", \"26\", \"27\", \"28\", \"29\", \"30\", \"31\", \"32\", \"33\", \"34\", \"36\", \"37\"], \"mode\": \"lines\", \"name\": \"recall_score_macro_max\", \"stepped\": true, \"type\": \"scatter\", \"data\": [0.768509836251335, 0.7686177901572887, 0.7836408316319432, 0.7836408316319432, 0.7836408316319432, 0.7836408316319432, 0.7836408316319432, 0.7863459647604634, 0.7863459647604634, 0.7863459647604634, 0.7893904833819819, 0.7893904833819819, 0.7893904833819819, 0.7893904833819819, 0.7893904833819819, 0.7893904833819819, 0.7893904833819819, 0.7997267743782899, 0.7997267743782899, 0.7997267743782899, 0.7997267743782899, 0.7997267743782899, 0.7997267743782899, 0.7997267743782899, 0.7997267743782899, 0.7997267743782899, 0.7997267743782899, 0.7997267743782899, 0.7997267743782899, 0.7997267743782899, 0.7997267743782899, 0.7997267743782899, 0.7997267743782899, 0.7997267743782899, 0.7997267743782899, 0.8143659488086733, 0.8143659488086733]}], \"AUC_weighted\": [{\"categories\": [\"0\", \"1\", \"2\", \"3\", \"4\", \"5\", \"6\", \"7\", \"8\", \"9\", \"10\", \"11\", \"12\", \"13\", \"14\", \"15\", \"16\", \"17\", \"18\", \"19\", \"20\", \"21\", \"22\", \"23\", \"24\", \"25\", \"26\", \"27\", \"28\", \"29\", \"30\", \"31\", \"32\", \"33\", \"34\", \"36\", \"37\"], \"mode\": \"markers\", \"name\": \"AUC_weighted\", \"stepped\": false, \"type\": \"scatter\", \"data\": [0.8660496158044502, 0.8638391311437836, 0.8999735924863105, 0.896434167544443, 0.8851914540915949, 0.8833136462497512, 0.6528543738968858, 0.8802476487652946, 0.8483520560335311, 0.8889659491132733, 0.8894334559980704, 0.8517901479678981, 0.8856754466452716, 0.8684568273415779, 0.8854308992739892, 0.8781775252096724, 0.8881593552192946, 0.8802271962473155, 0.8594090035543335, 0.8793179501536841, 0.8876145570593647, 0.8792678907460239, 0.8855254119132562, 0.8764678392779048, 0.8869906072019885, 0.5, 0.8479535735742354, 0.8831403596461911, 0.8679428114343194, 0.870722308953819, 0.8701058310932661, 0.8734685767559203, 0.8920054660365772, 0.8832847873225227, 0.8799819294952302, 0.9011736275897398, 0.8882739626240262]}, {\"categories\": [\"0\", \"1\", \"2\", \"3\", \"4\", \"5\", \"6\", \"7\", \"8\", \"9\", \"10\", \"11\", \"12\", \"13\", \"14\", \"15\", \"16\", \"17\", \"18\", \"19\", \"20\", \"21\", \"22\", \"23\", \"24\", \"25\", \"26\", \"27\", \"28\", \"29\", \"30\", \"31\", \"32\", \"33\", \"34\", \"36\", \"37\"], \"mode\": \"lines\", \"name\": \"AUC_weighted_max\", \"stepped\": true, \"type\": \"scatter\", \"data\": [0.8660496158044502, 0.8660496158044502, 0.8999735924863105, 0.8999735924863105, 0.8999735924863105, 0.8999735924863105, 0.8999735924863105, 0.8999735924863105, 0.8999735924863105, 0.8999735924863105, 0.8999735924863105, 0.8999735924863105, 0.8999735924863105, 0.8999735924863105, 0.8999735924863105, 0.8999735924863105, 0.8999735924863105, 0.8999735924863105, 0.8999735924863105, 0.8999735924863105, 0.8999735924863105, 0.8999735924863105, 0.8999735924863105, 0.8999735924863105, 0.8999735924863105, 0.8999735924863105, 0.8999735924863105, 0.8999735924863105, 0.8999735924863105, 0.8999735924863105, 0.8999735924863105, 0.8999735924863105, 0.8999735924863105, 0.8999735924863105, 0.8999735924863105, 0.9011736275897398, 0.9011736275897398]}], \"precision_score_micro\": [{\"categories\": [\"0\", \"1\", \"2\", \"3\", \"4\", \"5\", \"6\", \"7\", \"8\", \"9\", \"10\", \"11\", \"12\", \"13\", \"14\", \"15\", \"16\", \"17\", \"18\", \"19\", \"20\", \"21\", \"22\", \"23\", \"24\", \"25\", \"26\", \"27\", \"28\", \"29\", \"30\", \"31\", \"32\", \"33\", \"34\", \"36\", \"37\"], \"mode\": \"markers\", \"name\": \"precision_score_micro\", \"stepped\": false, \"type\": \"scatter\", \"data\": [0.815868794326241, 0.815868794326241, 0.8367907801418439, 0.8367907801418439, 0.824290780141844, 0.8157801418439717, 0.7154255319148936, 0.8326241134751774, 0.7992021276595745, 0.8409574468085106, 0.8367021276595745, 0.7910460992907801, 0.8283687943262411, 0.799290780141844, 0.8327127659574469, 0.8283687943262411, 0.8326241134751774, 0.849113475177305, 0.811613475177305, 0.824290780141844, 0.8284574468085106, 0.8367907801418439, 0.815868794326241, 0.8032801418439716, 0.8202127659574469, 0.6950354609929078, 0.8153368794326241, 0.8283687943262411, 0.815868794326241, 0.8281914893617021, 0.8241134751773049, 0.8201241134751772, 0.8409574468085106, 0.8409574468085106, 0.8034574468085106, 0.861790780141844, 0.8451241134751774]}, {\"categories\": [\"0\", \"1\", \"2\", \"3\", \"4\", \"5\", \"6\", \"7\", \"8\", \"9\", \"10\", \"11\", \"12\", \"13\", \"14\", \"15\", \"16\", \"17\", \"18\", \"19\", \"20\", \"21\", \"22\", \"23\", \"24\", \"25\", \"26\", \"27\", \"28\", \"29\", \"30\", \"31\", \"32\", \"33\", \"34\", \"36\", \"37\"], \"mode\": \"lines\", \"name\": \"precision_score_micro_max\", \"stepped\": true, \"type\": \"scatter\", \"data\": [0.815868794326241, 0.815868794326241, 0.8367907801418439, 0.8367907801418439, 0.8367907801418439, 0.8367907801418439, 0.8367907801418439, 0.8367907801418439, 0.8367907801418439, 0.8409574468085106, 0.8409574468085106, 0.8409574468085106, 0.8409574468085106, 0.8409574468085106, 0.8409574468085106, 0.8409574468085106, 0.8409574468085106, 0.849113475177305, 0.849113475177305, 0.849113475177305, 0.849113475177305, 0.849113475177305, 0.849113475177305, 0.849113475177305, 0.849113475177305, 0.849113475177305, 0.849113475177305, 0.849113475177305, 0.849113475177305, 0.849113475177305, 0.849113475177305, 0.849113475177305, 0.849113475177305, 0.849113475177305, 0.849113475177305, 0.861790780141844, 0.861790780141844]}], \"precision_score_weighted\": [{\"categories\": [\"0\", \"1\", \"2\", \"3\", \"4\", \"5\", \"6\", \"7\", \"8\", \"9\", \"10\", \"11\", \"12\", \"13\", \"14\", \"15\", \"16\", \"17\", \"18\", \"19\", \"20\", \"21\", \"22\", \"23\", \"24\", \"25\", \"26\", \"27\", \"28\", \"29\", \"30\", \"31\", \"32\", \"33\", \"34\", \"36\", \"37\"], \"mode\": \"markers\", \"name\": \"precision_score_weighted\", \"stepped\": false, \"type\": \"scatter\", \"data\": [0.8214172607789629, 0.821458099253977, 0.8403213246282707, 0.8407406176961871, 0.8332479341772713, 0.8214772225410524, 0.7150795029351438, 0.8393909525942164, 0.8141408298788203, 0.8451156422221405, 0.8450732084192856, 0.7992340706968367, 0.8340421591593307, 0.8008295767135353, 0.8399863439162152, 0.8381172550853402, 0.8365554680682967, 0.8613540062718723, 0.8196567457205756, 0.8350866098003145, 0.8379251378586485, 0.8495221043093382, 0.820982113467706, 0.8087701199123373, 0.8322412041316017, 0.48750872378149995, 0.8375809293246158, 0.8331722151035355, 0.8241682488975981, 0.8403666450310693, 0.831557020161469, 0.8280840467675574, 0.8513330526429497, 0.8494184029188723, 0.813029725640547, 0.8720457510218148, 0.8512166388691733]}, {\"categories\": [\"0\", \"1\", \"2\", \"3\", \"4\", \"5\", \"6\", \"7\", \"8\", \"9\", \"10\", \"11\", \"12\", \"13\", \"14\", \"15\", \"16\", \"17\", \"18\", \"19\", \"20\", \"21\", \"22\", \"23\", \"24\", \"25\", \"26\", \"27\", \"28\", \"29\", \"30\", \"31\", \"32\", \"33\", \"34\", \"36\", \"37\"], \"mode\": \"lines\", \"name\": \"precision_score_weighted_max\", \"stepped\": true, \"type\": \"scatter\", \"data\": [0.8214172607789629, 0.821458099253977, 0.8403213246282707, 0.8407406176961871, 0.8407406176961871, 0.8407406176961871, 0.8407406176961871, 0.8407406176961871, 0.8407406176961871, 0.8451156422221405, 0.8451156422221405, 0.8451156422221405, 0.8451156422221405, 0.8451156422221405, 0.8451156422221405, 0.8451156422221405, 0.8451156422221405, 0.8613540062718723, 0.8613540062718723, 0.8613540062718723, 0.8613540062718723, 0.8613540062718723, 0.8613540062718723, 0.8613540062718723, 0.8613540062718723, 0.8613540062718723, 0.8613540062718723, 0.8613540062718723, 0.8613540062718723, 0.8613540062718723, 0.8613540062718723, 0.8613540062718723, 0.8613540062718723, 0.8613540062718723, 0.8613540062718723, 0.8720457510218148, 0.8720457510218148]}], \"precision_score_macro\": [{\"categories\": [\"0\", \"1\", \"2\", \"3\", \"4\", \"5\", \"6\", \"7\", \"8\", \"9\", \"10\", \"11\", \"12\", \"13\", \"14\", \"15\", \"16\", \"17\", \"18\", \"19\", \"20\", \"21\", \"22\", \"23\", \"24\", \"25\", \"26\", \"27\", \"28\", \"29\", \"30\", \"31\", \"32\", \"33\", \"34\", \"36\", \"37\"], \"mode\": \"markers\", \"name\": \"precision_score_macro\", \"stepped\": false, \"type\": \"scatter\", \"data\": [0.7813339194589195, 0.7772054334554335, 0.8101536172434006, 0.8131188962071315, 0.7969712224718217, 0.7810381175841703, 0.6684966563791533, 0.8038236239103236, 0.800480661016679, 0.8202796146062401, 0.8127293296043296, 0.7755708180708181, 0.8162581334981848, 0.7712338814970394, 0.816722796821481, 0.7996382783882783, 0.8075746681938633, 0.8339086783204429, 0.7775759641220168, 0.8003489700548524, 0.8210267585267585, 0.8249963999964001, 0.7964554042217713, 0.7829993074729916, 0.814946353235827, 0.3475177304964539, 0.7822723213467315, 0.7923097572362279, 0.7794514228705405, 0.8076168134991665, 0.7906326276755968, 0.8067179442179443, 0.8220595913804118, 0.8199049316696374, 0.7888621893724589, 0.8473729471097892, 0.8237767993959944]}, {\"categories\": [\"0\", \"1\", \"2\", \"3\", \"4\", \"5\", \"6\", \"7\", \"8\", \"9\", \"10\", \"11\", \"12\", \"13\", \"14\", \"15\", \"16\", \"17\", \"18\", \"19\", \"20\", \"21\", \"22\", \"23\", \"24\", \"25\", \"26\", \"27\", \"28\", \"29\", \"30\", \"31\", \"32\", \"33\", \"34\", \"36\", \"37\"], \"mode\": \"lines\", \"name\": \"precision_score_macro_max\", \"stepped\": true, \"type\": \"scatter\", \"data\": [0.7813339194589195, 0.7813339194589195, 0.8101536172434006, 0.8131188962071315, 0.8131188962071315, 0.8131188962071315, 0.8131188962071315, 0.8131188962071315, 0.8131188962071315, 0.8202796146062401, 0.8202796146062401, 0.8202796146062401, 0.8202796146062401, 0.8202796146062401, 0.8202796146062401, 0.8202796146062401, 0.8202796146062401, 0.8339086783204429, 0.8339086783204429, 0.8339086783204429, 0.8339086783204429, 0.8339086783204429, 0.8339086783204429, 0.8339086783204429, 0.8339086783204429, 0.8339086783204429, 0.8339086783204429, 0.8339086783204429, 0.8339086783204429, 0.8339086783204429, 0.8339086783204429, 0.8339086783204429, 0.8339086783204429, 0.8339086783204429, 0.8339086783204429, 0.8473729471097892, 0.8473729471097892]}], \"matthews_correlation\": [{\"categories\": [\"0\", \"1\", \"2\", \"3\", \"4\", \"5\", \"6\", \"7\", \"8\", \"9\", \"10\", \"11\", \"12\", \"13\", \"14\", \"15\", \"16\", \"17\", \"18\", \"19\", \"20\", \"21\", \"22\", \"23\", \"24\", \"25\", \"26\", \"27\", \"28\", \"29\", \"30\", \"31\", \"32\", \"33\", \"34\", \"36\", \"37\"], \"mode\": \"markers\", \"name\": \"matthews_correlation\", \"stepped\": false, \"type\": \"scatter\", \"data\": [0.5489363175825552, 0.545051100303927, 0.5923935664590437, 0.585956595469822, 0.5761177578031572, 0.5405561216226535, 0.257430435840465, 0.5887099335407291, 0.4789345525112746, 0.5973008016838903, 0.6004998205963464, 0.4865359537003789, 0.5532742386191416, 0.5014083713658068, 0.583732738598436, 0.5810881922136605, 0.584679349368923, 0.6310579856429276, 0.5322247373251404, 0.5780149621352395, 0.5670949560588406, 0.604475452969848, 0.52563772536273, 0.49172265368473606, 0.5532000338897902, 0.0, 0.569544750463966, 0.5764183868918289, 0.5591063379368489, 0.5814480052683771, 0.5639859115131615, 0.5472971453481237, 0.6127956433085026, 0.6145009359200232, 0.5092450001383584, 0.6594304794861755, 0.6180172814460578]}, {\"categories\": [\"0\", \"1\", \"2\", \"3\", \"4\", \"5\", \"6\", \"7\", \"8\", \"9\", \"10\", \"11\", \"12\", \"13\", \"14\", \"15\", \"16\", \"17\", \"18\", \"19\", \"20\", \"21\", \"22\", \"23\", \"24\", \"25\", \"26\", \"27\", \"28\", \"29\", \"30\", \"31\", \"32\", \"33\", \"34\", \"36\", \"37\"], \"mode\": \"lines\", \"name\": \"matthews_correlation_max\", \"stepped\": true, \"type\": \"scatter\", \"data\": [0.5489363175825552, 0.5489363175825552, 0.5923935664590437, 0.5923935664590437, 0.5923935664590437, 0.5923935664590437, 0.5923935664590437, 0.5923935664590437, 0.5923935664590437, 0.5973008016838903, 0.6004998205963464, 0.6004998205963464, 0.6004998205963464, 0.6004998205963464, 0.6004998205963464, 0.6004998205963464, 0.6004998205963464, 0.6310579856429276, 0.6310579856429276, 0.6310579856429276, 0.6310579856429276, 0.6310579856429276, 0.6310579856429276, 0.6310579856429276, 0.6310579856429276, 0.6310579856429276, 0.6310579856429276, 0.6310579856429276, 0.6310579856429276, 0.6310579856429276, 0.6310579856429276, 0.6310579856429276, 0.6310579856429276, 0.6310579856429276, 0.6310579856429276, 0.6594304794861755, 0.6594304794861755]}], \"recall_score_micro\": [{\"categories\": [\"0\", \"1\", \"2\", \"3\", \"4\", \"5\", \"6\", \"7\", \"8\", \"9\", \"10\", \"11\", \"12\", \"13\", \"14\", \"15\", \"16\", \"17\", \"18\", \"19\", \"20\", \"21\", \"22\", \"23\", \"24\", \"25\", \"26\", \"27\", \"28\", \"29\", \"30\", \"31\", \"32\", \"33\", \"34\", \"36\", \"37\"], \"mode\": \"markers\", \"name\": \"recall_score_micro\", \"stepped\": false, \"type\": \"scatter\", \"data\": [0.815868794326241, 0.815868794326241, 0.8367907801418439, 0.8367907801418439, 0.824290780141844, 0.8157801418439717, 0.7154255319148936, 0.8326241134751774, 0.7992021276595745, 0.8409574468085106, 0.8367021276595745, 0.7910460992907801, 0.8283687943262411, 0.799290780141844, 0.8327127659574469, 0.8283687943262411, 0.8326241134751774, 0.849113475177305, 0.811613475177305, 0.824290780141844, 0.8284574468085106, 0.8367907801418439, 0.815868794326241, 0.8032801418439716, 0.8202127659574469, 0.6950354609929078, 0.8153368794326241, 0.8283687943262411, 0.815868794326241, 0.8281914893617021, 0.8241134751773049, 0.8201241134751772, 0.8409574468085106, 0.8409574468085106, 0.8034574468085106, 0.861790780141844, 0.8451241134751774]}, {\"categories\": [\"0\", \"1\", \"2\", \"3\", \"4\", \"5\", \"6\", \"7\", \"8\", \"9\", \"10\", \"11\", \"12\", \"13\", \"14\", \"15\", \"16\", \"17\", \"18\", \"19\", \"20\", \"21\", \"22\", \"23\", \"24\", \"25\", \"26\", \"27\", \"28\", \"29\", \"30\", \"31\", \"32\", \"33\", \"34\", \"36\", \"37\"], \"mode\": \"lines\", \"name\": \"recall_score_micro_max\", \"stepped\": true, \"type\": \"scatter\", \"data\": [0.815868794326241, 0.815868794326241, 0.8367907801418439, 0.8367907801418439, 0.8367907801418439, 0.8367907801418439, 0.8367907801418439, 0.8367907801418439, 0.8367907801418439, 0.8409574468085106, 0.8409574468085106, 0.8409574468085106, 0.8409574468085106, 0.8409574468085106, 0.8409574468085106, 0.8409574468085106, 0.8409574468085106, 0.849113475177305, 0.849113475177305, 0.849113475177305, 0.849113475177305, 0.849113475177305, 0.849113475177305, 0.849113475177305, 0.849113475177305, 0.849113475177305, 0.849113475177305, 0.849113475177305, 0.849113475177305, 0.849113475177305, 0.849113475177305, 0.849113475177305, 0.849113475177305, 0.849113475177305, 0.849113475177305, 0.861790780141844, 0.861790780141844]}], \"f1_score_macro\": [{\"categories\": [\"0\", \"1\", \"2\", \"3\", \"4\", \"5\", \"6\", \"7\", \"8\", \"9\", \"10\", \"11\", \"12\", \"13\", \"14\", \"15\", \"16\", \"17\", \"18\", \"19\", \"20\", \"21\", \"22\", \"23\", \"24\", \"25\", \"26\", \"27\", \"28\", \"29\", \"30\", \"31\", \"32\", \"33\", \"34\", \"36\", \"37\"], \"mode\": \"markers\", \"name\": \"f1_score_macro\", \"stepped\": false, \"type\": \"scatter\", \"data\": [0.7703360865681474, 0.7689071448922459, 0.7906434525584196, 0.7860343427673989, 0.7812271967711961, 0.7650815904511725, 0.5934771577776499, 0.7891143131648567, 0.7063967232686038, 0.790509901230964, 0.7937744048091162, 0.726563338898053, 0.7608276624508941, 0.7407312479019958, 0.7814423936668138, 0.7843391482946277, 0.7864909783676088, 0.8065401826897945, 0.7604876221849721, 0.7819615405616045, 0.7680618093768196, 0.7912680089193063, 0.7488112616876903, 0.7297115580993605, 0.7604414645418089, 0.40915320368477753, 0.7790210752578111, 0.7847508189539699, 0.7757246310565495, 0.7821673212529683, 0.7762738241133018, 0.7596570215794186, 0.7977850017113539, 0.8003478974876858, 0.7372561265026054, 0.8215820072559066, 0.8024132818590337]}, {\"categories\": [\"0\", \"1\", \"2\", \"3\", \"4\", \"5\", \"6\", \"7\", \"8\", \"9\", \"10\", \"11\", \"12\", \"13\", \"14\", \"15\", \"16\", \"17\", \"18\", \"19\", \"20\", \"21\", \"22\", \"23\", \"24\", \"25\", \"26\", \"27\", \"28\", \"29\", \"30\", \"31\", \"32\", \"33\", \"34\", \"36\", \"37\"], \"mode\": \"lines\", \"name\": \"f1_score_macro_max\", \"stepped\": true, \"type\": \"scatter\", \"data\": [0.7703360865681474, 0.7703360865681474, 0.7906434525584196, 0.7906434525584196, 0.7906434525584196, 0.7906434525584196, 0.7906434525584196, 0.7906434525584196, 0.7906434525584196, 0.7906434525584196, 0.7937744048091162, 0.7937744048091162, 0.7937744048091162, 0.7937744048091162, 0.7937744048091162, 0.7937744048091162, 0.7937744048091162, 0.8065401826897945, 0.8065401826897945, 0.8065401826897945, 0.8065401826897945, 0.8065401826897945, 0.8065401826897945, 0.8065401826897945, 0.8065401826897945, 0.8065401826897945, 0.8065401826897945, 0.8065401826897945, 0.8065401826897945, 0.8065401826897945, 0.8065401826897945, 0.8065401826897945, 0.8065401826897945, 0.8065401826897945, 0.8065401826897945, 0.8215820072559066, 0.8215820072559066]}], \"recall_score_weighted\": [{\"categories\": [\"0\", \"1\", \"2\", \"3\", \"4\", \"5\", \"6\", \"7\", \"8\", \"9\", \"10\", \"11\", \"12\", \"13\", \"14\", \"15\", \"16\", \"17\", \"18\", \"19\", \"20\", \"21\", \"22\", \"23\", \"24\", \"25\", \"26\", \"27\", \"28\", \"29\", \"30\", \"31\", \"32\", \"33\", \"34\", \"36\", \"37\"], \"mode\": \"markers\", \"name\": \"recall_score_weighted\", \"stepped\": false, \"type\": \"scatter\", \"data\": [0.815868794326241, 0.815868794326241, 0.8367907801418439, 0.8367907801418439, 0.824290780141844, 0.8157801418439717, 0.7154255319148936, 0.8326241134751774, 0.7992021276595745, 0.8409574468085106, 0.8367021276595745, 0.7910460992907801, 0.8283687943262411, 0.799290780141844, 0.8327127659574469, 0.8283687943262411, 0.8326241134751774, 0.849113475177305, 0.811613475177305, 0.824290780141844, 0.8284574468085106, 0.8367907801418439, 0.815868794326241, 0.8032801418439716, 0.8202127659574469, 0.6950354609929078, 0.8153368794326241, 0.8283687943262411, 0.815868794326241, 0.8281914893617021, 0.8241134751773049, 0.8201241134751772, 0.8409574468085106, 0.8409574468085106, 0.8034574468085106, 0.861790780141844, 0.8451241134751774]}, {\"categories\": [\"0\", \"1\", \"2\", \"3\", \"4\", \"5\", \"6\", \"7\", \"8\", \"9\", \"10\", \"11\", \"12\", \"13\", \"14\", \"15\", \"16\", \"17\", \"18\", \"19\", \"20\", \"21\", \"22\", \"23\", \"24\", \"25\", \"26\", \"27\", \"28\", \"29\", \"30\", \"31\", \"32\", \"33\", \"34\", \"36\", \"37\"], \"mode\": \"lines\", \"name\": \"recall_score_weighted_max\", \"stepped\": true, \"type\": \"scatter\", \"data\": [0.815868794326241, 0.815868794326241, 0.8367907801418439, 0.8367907801418439, 0.8367907801418439, 0.8367907801418439, 0.8367907801418439, 0.8367907801418439, 0.8367907801418439, 0.8409574468085106, 0.8409574468085106, 0.8409574468085106, 0.8409574468085106, 0.8409574468085106, 0.8409574468085106, 0.8409574468085106, 0.8409574468085106, 0.849113475177305, 0.849113475177305, 0.849113475177305, 0.849113475177305, 0.849113475177305, 0.849113475177305, 0.849113475177305, 0.849113475177305, 0.849113475177305, 0.849113475177305, 0.849113475177305, 0.849113475177305, 0.849113475177305, 0.849113475177305, 0.849113475177305, 0.849113475177305, 0.849113475177305, 0.849113475177305, 0.861790780141844, 0.861790780141844]}], \"accuracy\": [{\"categories\": [\"0\", \"1\", \"2\", \"3\", \"4\", \"5\", \"6\", \"7\", \"8\", \"9\", \"10\", \"11\", \"12\", \"13\", \"14\", \"15\", \"16\", \"17\", \"18\", \"19\", \"20\", \"21\", \"22\", \"23\", \"24\", \"25\", \"26\", \"27\", \"28\", \"29\", \"30\", \"31\", \"32\", \"33\", \"34\", \"36\", \"37\"], \"mode\": \"markers\", \"name\": \"accuracy\", \"stepped\": false, \"type\": \"scatter\", \"data\": [0.815868794326241, 0.815868794326241, 0.8367907801418439, 0.8367907801418439, 0.824290780141844, 0.8157801418439717, 0.7154255319148936, 0.8326241134751774, 0.7992021276595745, 0.8409574468085106, 0.8367021276595745, 0.7910460992907801, 0.8283687943262411, 0.799290780141844, 0.8327127659574469, 0.8283687943262411, 0.8326241134751774, 0.849113475177305, 0.811613475177305, 0.824290780141844, 0.8284574468085106, 0.8367907801418439, 0.815868794326241, 0.8032801418439716, 0.8202127659574469, 0.6950354609929078, 0.8153368794326241, 0.8283687943262411, 0.815868794326241, 0.8281914893617021, 0.8241134751773049, 0.8201241134751772, 0.8409574468085106, 0.8409574468085106, 0.8034574468085106, 0.861790780141844, 0.8451241134751774]}, {\"categories\": [\"0\", \"1\", \"2\", \"3\", \"4\", \"5\", \"6\", \"7\", \"8\", \"9\", \"10\", \"11\", \"12\", \"13\", \"14\", \"15\", \"16\", \"17\", \"18\", \"19\", \"20\", \"21\", \"22\", \"23\", \"24\", \"25\", \"26\", \"27\", \"28\", \"29\", \"30\", \"31\", \"32\", \"33\", \"34\", \"36\", \"37\"], \"mode\": \"lines\", \"name\": \"accuracy_max\", \"stepped\": true, \"type\": \"scatter\", \"data\": [0.815868794326241, 0.815868794326241, 0.8367907801418439, 0.8367907801418439, 0.8367907801418439, 0.8367907801418439, 0.8367907801418439, 0.8367907801418439, 0.8367907801418439, 0.8409574468085106, 0.8409574468085106, 0.8409574468085106, 0.8409574468085106, 0.8409574468085106, 0.8409574468085106, 0.8409574468085106, 0.8409574468085106, 0.849113475177305, 0.849113475177305, 0.849113475177305, 0.849113475177305, 0.849113475177305, 0.849113475177305, 0.849113475177305, 0.849113475177305, 0.849113475177305, 0.849113475177305, 0.849113475177305, 0.849113475177305, 0.849113475177305, 0.849113475177305, 0.849113475177305, 0.849113475177305, 0.849113475177305, 0.849113475177305, 0.861790780141844, 0.861790780141844]}], \"f1_score_weighted\": [{\"categories\": [\"0\", \"1\", \"2\", \"3\", \"4\", \"5\", \"6\", \"7\", \"8\", \"9\", \"10\", \"11\", \"12\", \"13\", \"14\", \"15\", \"16\", \"17\", \"18\", \"19\", \"20\", \"21\", \"22\", \"23\", \"24\", \"25\", \"26\", \"27\", \"28\", \"29\", \"30\", \"31\", \"32\", \"33\", \"34\", \"36\", \"37\"], \"mode\": \"markers\", \"name\": \"f1_score_weighted\", \"stepped\": false, \"type\": \"scatter\", \"data\": [0.8148777270229722, 0.8154112612445186, 0.8333098948021354, 0.8324269614294625, 0.8225008114124069, 0.8138002589817359, 0.681766035881961, 0.8310240200814285, 0.7766349139016587, 0.8354808252428262, 0.8350618531440187, 0.7793513389194434, 0.8169415272352886, 0.7908492334291013, 0.8265342369382983, 0.8277416564781765, 0.8291608801438557, 0.8469611516667618, 0.8103216489383174, 0.8232425363596008, 0.8187868100824833, 0.8330601997209076, 0.8057506945291106, 0.791196385615016, 0.8111907077591965, 0.5717645146162607, 0.8219220146469993, 0.8278851546060141, 0.8167318133027581, 0.8266955719864122, 0.8225780550495019, 0.811088963135828, 0.8380636704398899, 0.8389234586483993, 0.7916905550186003, 0.8593001982296216, 0.8420785070325347]}, {\"categories\": [\"0\", \"1\", \"2\", \"3\", \"4\", \"5\", \"6\", \"7\", \"8\", \"9\", \"10\", \"11\", \"12\", \"13\", \"14\", \"15\", \"16\", \"17\", \"18\", \"19\", \"20\", \"21\", \"22\", \"23\", \"24\", \"25\", \"26\", \"27\", \"28\", \"29\", \"30\", \"31\", \"32\", \"33\", \"34\", \"36\", \"37\"], \"mode\": \"lines\", \"name\": \"f1_score_weighted_max\", \"stepped\": true, \"type\": \"scatter\", \"data\": [0.8148777270229722, 0.8154112612445186, 0.8333098948021354, 0.8333098948021354, 0.8333098948021354, 0.8333098948021354, 0.8333098948021354, 0.8333098948021354, 0.8333098948021354, 0.8354808252428262, 0.8354808252428262, 0.8354808252428262, 0.8354808252428262, 0.8354808252428262, 0.8354808252428262, 0.8354808252428262, 0.8354808252428262, 0.8469611516667618, 0.8469611516667618, 0.8469611516667618, 0.8469611516667618, 0.8469611516667618, 0.8469611516667618, 0.8469611516667618, 0.8469611516667618, 0.8469611516667618, 0.8469611516667618, 0.8469611516667618, 0.8469611516667618, 0.8469611516667618, 0.8469611516667618, 0.8469611516667618, 0.8469611516667618, 0.8469611516667618, 0.8469611516667618, 0.8593001982296216, 0.8593001982296216]}]}, \"metricName\": null, \"primaryMetricName\": \"accuracy\", \"showLegend\": false}, \"run_metrics\": [{\"name\": \"experiment_status\", \"run_id\": \"AutoML_ca19b72c-5a6a-4c23-a502-59e8d4f2094c\", \"categories\": [0, 1, 2, 3, 4, 5, 6, 7, 8, 9, 10, 11, 12, 13], \"series\": [{\"data\": [\"DatasetEvaluation\", \"FeaturesGeneration\", \"DatasetFeaturization\", \"DatasetFeaturizationCompleted\", \"DatasetCrossValidationSplit\", \"ModelSelection\", \"BestRunExplainModel\", \"ModelExplanationDataSetSetup\", \"PickSurrogateModel\", \"EngineeredFeatureExplanations\", \"EngineeredFeatureExplanations\", \"RawFeaturesExplanations\", \"RawFeaturesExplanations\", \"BestRunExplainModel\"]}]}, {\"name\": \"experiment_status_description\", \"run_id\": \"AutoML_ca19b72c-5a6a-4c23-a502-59e8d4f2094c\", \"categories\": [0, 1, 2, 3, 4, 5, 6, 7, 8, 9, 10, 11, 12, 13], \"series\": [{\"data\": [\"Gathering dataset statistics.\", \"Generating features for the dataset.\", \"Beginning to fit featurizers and featurize the dataset.\", \"Completed fit featurizers and featurizing the dataset.\", \"Generating individually featurized CV splits.\", \"Beginning model selection.\", \"Best run model explanations started\", \"Model explanations data setup completed\", \"Choosing LightGBM as the surrogate model for explanations\", \"Computation of engineered features started\", \"Computation of engineered features completed\", \"Computation of raw features started\", \"Computation of raw features completed\", \"Best run model explanations completed\"]}]}, {\"name\": \"norm_macro_recall\", \"run_id\": \"AutoML_ca19b72c-5a6a-4c23-a502-59e8d4f2094c\", \"categories\": [0], \"series\": [{\"data\": [0.6287318976173466]}]}, {\"name\": \"precision_score_micro\", \"run_id\": \"AutoML_ca19b72c-5a6a-4c23-a502-59e8d4f2094c\", \"categories\": [0], \"series\": [{\"data\": [0.861790780141844]}]}, {\"name\": \"log_loss\", \"run_id\": \"AutoML_ca19b72c-5a6a-4c23-a502-59e8d4f2094c\", \"categories\": [0], \"series\": [{\"data\": [0.3876625683843984]}]}, {\"name\": \"AUC_macro\", \"run_id\": \"AutoML_ca19b72c-5a6a-4c23-a502-59e8d4f2094c\", \"categories\": [0], \"series\": [{\"data\": [0.9011736275897398]}]}, {\"name\": \"balanced_accuracy\", \"run_id\": \"AutoML_ca19b72c-5a6a-4c23-a502-59e8d4f2094c\", \"categories\": [0], \"series\": [{\"data\": [0.8143659488086733]}]}, {\"name\": \"recall_score_micro\", \"run_id\": \"AutoML_ca19b72c-5a6a-4c23-a502-59e8d4f2094c\", \"categories\": [0], \"series\": [{\"data\": [0.861790780141844]}]}, {\"name\": \"f1_score_macro\", \"run_id\": \"AutoML_ca19b72c-5a6a-4c23-a502-59e8d4f2094c\", \"categories\": [0], \"series\": [{\"data\": [0.8215820072559066]}]}, {\"name\": \"weighted_accuracy\", \"run_id\": \"AutoML_ca19b72c-5a6a-4c23-a502-59e8d4f2094c\", \"categories\": [0], \"series\": [{\"data\": [0.8929530140884822]}]}, {\"name\": \"accuracy\", \"run_id\": \"AutoML_ca19b72c-5a6a-4c23-a502-59e8d4f2094c\", \"categories\": [0], \"series\": [{\"data\": [0.861790780141844]}]}, {\"name\": \"AUC_micro\", \"run_id\": \"AutoML_ca19b72c-5a6a-4c23-a502-59e8d4f2094c\", \"categories\": [0], \"series\": [{\"data\": [0.9135314889215834]}]}, {\"name\": \"average_precision_score_weighted\", \"run_id\": \"AutoML_ca19b72c-5a6a-4c23-a502-59e8d4f2094c\", \"categories\": [0], \"series\": [{\"data\": [0.9140136313900673]}]}, {\"name\": \"f1_score_weighted\", \"run_id\": \"AutoML_ca19b72c-5a6a-4c23-a502-59e8d4f2094c\", \"categories\": [0], \"series\": [{\"data\": [0.8593001982296216]}]}, {\"name\": \"AUC_weighted\", \"run_id\": \"AutoML_ca19b72c-5a6a-4c23-a502-59e8d4f2094c\", \"categories\": [0], \"series\": [{\"data\": [0.9011736275897398]}]}, {\"name\": \"average_precision_score_micro\", \"run_id\": \"AutoML_ca19b72c-5a6a-4c23-a502-59e8d4f2094c\", \"categories\": [0], \"series\": [{\"data\": [0.9169739217642665]}]}, {\"name\": \"precision_score_weighted\", \"run_id\": \"AutoML_ca19b72c-5a6a-4c23-a502-59e8d4f2094c\", \"categories\": [0], \"series\": [{\"data\": [0.8720457510218148]}]}, {\"name\": \"average_precision_score_macro\", \"run_id\": \"AutoML_ca19b72c-5a6a-4c23-a502-59e8d4f2094c\", \"categories\": [0], \"series\": [{\"data\": [0.8691788718809359]}]}, {\"name\": \"recall_score_macro\", \"run_id\": \"AutoML_ca19b72c-5a6a-4c23-a502-59e8d4f2094c\", \"categories\": [0], \"series\": [{\"data\": [0.8143659488086733]}]}, {\"name\": \"matthews_correlation\", \"run_id\": \"AutoML_ca19b72c-5a6a-4c23-a502-59e8d4f2094c\", \"categories\": [0], \"series\": [{\"data\": [0.6594304794861755]}]}, {\"name\": \"recall_score_weighted\", \"run_id\": \"AutoML_ca19b72c-5a6a-4c23-a502-59e8d4f2094c\", \"categories\": [0], \"series\": [{\"data\": [0.861790780141844]}]}, {\"name\": \"precision_score_macro\", \"run_id\": \"AutoML_ca19b72c-5a6a-4c23-a502-59e8d4f2094c\", \"categories\": [0], \"series\": [{\"data\": [0.8473729471097892]}]}, {\"name\": \"f1_score_micro\", \"run_id\": \"AutoML_ca19b72c-5a6a-4c23-a502-59e8d4f2094c\", \"categories\": [0], \"series\": [{\"data\": [0.861790780141844]}]}], \"run_logs\": \"\\nRun is completed.\", \"graph\": {}, \"widget_settings\": {\"childWidgetDisplay\": \"popup\", \"send_telemetry\": false, \"log_level\": \"INFO\", \"sdk_version\": \"1.20.0\"}, \"loading\": false}"
     },
     "metadata": {},
     "output_type": "display_data"
    }
   ],
   "source": [
    "RunDetails(remote_run).show()"
   ]
  },
  {
   "cell_type": "markdown",
   "metadata": {},
   "source": [
    "## Best Model\n",
    "\n",
    "TODO: In the cell below, get the best model from the automl experiments and display all the properties of the model.\n",
    "\n"
   ]
  },
  {
   "cell_type": "code",
   "execution_count": 43,
   "metadata": {
    "gather": {
     "logged": 1598431425670
    },
    "jupyter": {
     "outputs_hidden": false,
     "source_hidden": false
    },
    "nteract": {
     "transient": {
      "deleting": false
     }
    }
   },
   "outputs": [
    {
     "name": "stderr",
     "output_type": "stream",
     "text": [
      "WARNING:root:The version of the SDK does not match the version the model was trained on.\n",
      "WARNING:root:The consistency in the result may not be guaranteed.\n",
      "WARNING:root:Package:azureml-automl-core, training version:1.21.0, current version:1.20.0\n",
      "Package:azureml-automl-runtime, training version:1.21.0, current version:1.20.0\n",
      "Package:azureml-core, training version:1.21.0.post1, current version:1.20.0\n",
      "Package:azureml-dataprep, training version:2.8.2, current version:2.7.3\n",
      "Package:azureml-dataprep-native, training version:28.0.0, current version:27.0.0\n",
      "Package:azureml-dataprep-rslex, training version:1.6.0, current version:1.5.0\n",
      "Package:azureml-dataset-runtime, training version:1.21.0, current version:1.20.0\n",
      "Package:azureml-defaults, training version:1.21.0, current version:1.20.0\n",
      "Package:azureml-interpret, training version:1.21.0, current version:1.20.0\n",
      "Package:azureml-pipeline-core, training version:1.21.0, current version:1.20.0\n",
      "Package:azureml-telemetry, training version:1.21.0, current version:1.20.0\n",
      "Package:azureml-train-automl-client, training version:1.21.0, current version:1.20.0\n",
      "Package:azureml-train-automl-runtime, training version:1.21.0, current version:1.20.0\n",
      "WARNING:root:Please ensure the version of your local conda dependencies match the version on which your model was trained in order to properly retrieve your model.\n"
     ]
    },
    {
     "data": {
      "text/html": [
       "<table style=\"width:100%\"><tr><th>Experiment</th><th>Id</th><th>Type</th><th>Status</th><th>Details Page</th><th>Docs Page</th></tr><tr><td>heart-failure-exp-sayed</td><td>AutoML_ca19b72c-5a6a-4c23-a502-59e8d4f2094c_36</td><td>azureml.scriptrun</td><td>Completed</td><td><a href=\"https://ml.azure.com/experiments/heart-failure-exp-sayed/runs/AutoML_ca19b72c-5a6a-4c23-a502-59e8d4f2094c_36?wsid=/subscriptions/3d1a56d2-7c81-4118-9790-f85d1acf0c77/resourcegroups/aml-quickstarts-137297/workspaces/quick-starts-ws-137297\" target=\"_blank\" rel=\"noopener\">Link to Azure Machine Learning studio</a></td><td><a href=\"https://docs.microsoft.com/en-us/python/api/azureml-core/azureml.core.run.Run?view=azure-ml-py\" target=\"_blank\" rel=\"noopener\">Link to Documentation</a></td></tr></table>"
      ],
      "text/plain": [
       "Run(Experiment: heart-failure-exp-sayed,\n",
       "Id: AutoML_ca19b72c-5a6a-4c23-a502-59e8d4f2094c_36,\n",
       "Type: azureml.scriptrun,\n",
       "Status: Completed)"
      ]
     },
     "execution_count": 43,
     "metadata": {},
     "output_type": "execute_result"
    }
   ],
   "source": [
    "best_run, fitted_model = remote_run.get_output()\n",
    "best_run"
   ]
  },
  {
   "cell_type": "code",
   "execution_count": 44,
   "metadata": {},
   "outputs": [
    {
     "name": "stdout",
     "output_type": "stream",
     "text": [
      "Pipeline(memory=None,\n",
      "         steps=[('datatransformer',\n",
      "                 DataTransformer(enable_dnn=None, enable_feature_sweeping=None,\n",
      "                                 feature_sweeping_config=None,\n",
      "                                 feature_sweeping_timeout=None,\n",
      "                                 featurization_config=None, force_text_dnn=None,\n",
      "                                 is_cross_validation=None,\n",
      "                                 is_onnx_compatible=None, logger=None,\n",
      "                                 observer=None, task=None, working_dir=None)),\n",
      "                ('prefittedsoftvotingclassifier',...\n",
      "                                                                                                    min_samples_split=0.10368421052631578,\n",
      "                                                                                                    min_weight_fraction_leaf=0.0,\n",
      "                                                                                                    n_estimators=25,\n",
      "                                                                                                    n_jobs=-1,\n",
      "                                                                                                    oob_score=False,\n",
      "                                                                                                    random_state=None,\n",
      "                                                                                                    verbose=0,\n",
      "                                                                                                    warm_start=False))],\n",
      "                                                                     verbose=False))],\n",
      "                                               flatten_transform=None,\n",
      "                                               weights=[0.1111111111111111,\n",
      "                                                        0.1111111111111111,\n",
      "                                                        0.2222222222222222,\n",
      "                                                        0.1111111111111111,\n",
      "                                                        0.1111111111111111,\n",
      "                                                        0.1111111111111111,\n",
      "                                                        0.1111111111111111,\n",
      "                                                        0.1111111111111111]))],\n",
      "         verbose=False)\n"
     ]
    }
   ],
   "source": [
    "print(fitted_model)"
   ]
  },
  {
   "cell_type": "code",
   "execution_count": 45,
   "metadata": {},
   "outputs": [
    {
     "data": {
      "text/plain": [
       "{'precision_score_macro': 0.8473729471097892,\n",
       " 'f1_score_micro': 0.861790780141844,\n",
       " 'weighted_accuracy': 0.8929530140884822,\n",
       " 'precision_score_micro': 0.861790780141844,\n",
       " 'norm_macro_recall': 0.6287318976173466,\n",
       " 'AUC_macro': 0.9011736275897398,\n",
       " 'f1_score_weighted': 0.8593001982296216,\n",
       " 'accuracy': 0.861790780141844,\n",
       " 'matthews_correlation': 0.6594304794861755,\n",
       " 'AUC_weighted': 0.9011736275897398,\n",
       " 'AUC_micro': 0.9135314889215834,\n",
       " 'balanced_accuracy': 0.8143659488086733,\n",
       " 'log_loss': 0.3876625683843984,\n",
       " 'recall_score_weighted': 0.861790780141844,\n",
       " 'recall_score_macro': 0.8143659488086733,\n",
       " 'average_precision_score_macro': 0.8691788718809359,\n",
       " 'average_precision_score_micro': 0.9169739217642665,\n",
       " 'average_precision_score_weighted': 0.9140136313900673,\n",
       " 'recall_score_micro': 0.861790780141844,\n",
       " 'f1_score_macro': 0.8215820072559066,\n",
       " 'precision_score_weighted': 0.8720457510218148,\n",
       " 'confusion_matrix': 'aml://artifactId/ExperimentRun/dcid.AutoML_ca19b72c-5a6a-4c23-a502-59e8d4f2094c_36/confusion_matrix',\n",
       " 'accuracy_table': 'aml://artifactId/ExperimentRun/dcid.AutoML_ca19b72c-5a6a-4c23-a502-59e8d4f2094c_36/accuracy_table'}"
      ]
     },
     "execution_count": 45,
     "metadata": {},
     "output_type": "execute_result"
    }
   ],
   "source": [
    "best_run_metrics = best_run.get_metrics()\n",
    "best_run_metrics"
   ]
  },
  {
   "cell_type": "code",
   "execution_count": 77,
   "metadata": {
    "gather": {
     "logged": 1598431426111
    },
    "jupyter": {
     "outputs_hidden": false,
     "source_hidden": false
    },
    "nteract": {
     "transient": {
      "deleting": false
     }
    }
   },
   "outputs": [],
   "source": [
    "#TODO: Save the best model\n",
    "\n",
    "model_name = best_run.properties['model_name']\n",
    "# register model in workspace\n",
    "mymodel = remote_run.register_model(model_name=model_name, description='Best automml model heart failure model', tags=None)"
   ]
  },
  {
   "cell_type": "code",
   "execution_count": 78,
   "metadata": {},
   "outputs": [
    {
     "data": {
      "text/plain": [
       "Model(workspace=Workspace.create(name='quick-starts-ws-137297', subscription_id='3d1a56d2-7c81-4118-9790-f85d1acf0c77', resource_group='aml-quickstarts-137297'), name=AutoMLca19b72c536, id=AutoMLca19b72c536:2, version=2, tags={}, properties={})"
      ]
     },
     "execution_count": 78,
     "metadata": {},
     "output_type": "execute_result"
    }
   ],
   "source": [
    "mymodel"
   ]
  },
  {
   "cell_type": "markdown",
   "metadata": {},
   "source": [
    "## Model Deployment\n",
    "\n",
    "Remember you have to deploy only one of the two models you trained.. Perform the steps in the rest of this notebook only if you wish to deploy this model.\n",
    "\n",
    "TODO: In the cell below, register the model, create an inference config and deploy the model as a web service."
   ]
  },
  {
   "cell_type": "code",
   "execution_count": 50,
   "metadata": {
    "gather": {
     "logged": 1598431435189
    },
    "jupyter": {
     "outputs_hidden": false,
     "source_hidden": false
    },
    "nteract": {
     "transient": {
      "deleting": false
     }
    }
   },
   "outputs": [],
   "source": [
    "#Copy the already created scoring_file_v_1_0_0.py file from the automl run into the scope.py\n",
    "best_run.download_file('outputs/scoring_file_v_1_0_0.py', 'score.py')"
   ]
  },
  {
   "cell_type": "code",
   "execution_count": 54,
   "metadata": {},
   "outputs": [],
   "source": [
    "inference_config = InferenceConfig(entry_script='score.py', environment=best_run.get_environment())"
   ]
  },
  {
   "cell_type": "code",
   "execution_count": 80,
   "metadata": {},
   "outputs": [],
   "source": [
    "# deploye the model as a web service \n",
    "aci_config = AciWebservice.deploy_configuration(cpu_cores=1, memory_gb=1, auth_enabled=True, enable_app_insights=True)\n",
    "\n",
    "deployed_service = Model.deploy(workspace=ws, \n",
    "                       name='automl-best-model',\n",
    "                       inference_config=inference_config,\n",
    "                       deployment_config=aci_config,\n",
    "                       models=[mymodel])"
   ]
  },
  {
   "cell_type": "code",
   "execution_count": 81,
   "metadata": {},
   "outputs": [
    {
     "name": "stdout",
     "output_type": "stream",
     "text": [
      "Tips: You can try get_logs(): https://aka.ms/debugimage#dockerlog or local deployment: https://aka.ms/debugimage#debug-locally to debug if deployment takes longer than 10 minutes.\n",
      "Running............................................\n",
      "Succeeded\n",
      "ACI service creation operation finished, operation \"Succeeded\"\n"
     ]
    }
   ],
   "source": [
    "deployed_service.wait_for_deployment(show_output = True)\n"
   ]
  },
  {
   "cell_type": "code",
   "execution_count": 82,
   "metadata": {},
   "outputs": [
    {
     "name": "stdout",
     "output_type": "stream",
     "text": [
      "2021-02-05T11:40:27,220301543+00:00 - gunicorn/run \n",
      "2021-02-05T11:40:27,221579048+00:00 - iot-server/run \n",
      "2021-02-05T11:40:27,222109650+00:00 - nginx/run \n",
      "/usr/sbin/nginx: /azureml-envs/azureml_20a8278aa8b20dd48cc50f56a6d2586c/lib/libcrypto.so.1.0.0: no version information available (required by /usr/sbin/nginx)\n",
      "/usr/sbin/nginx: /azureml-envs/azureml_20a8278aa8b20dd48cc50f56a6d2586c/lib/libcrypto.so.1.0.0: no version information available (required by /usr/sbin/nginx)\n",
      "/usr/sbin/nginx: /azureml-envs/azureml_20a8278aa8b20dd48cc50f56a6d2586c/lib/libssl.so.1.0.0: no version information available (required by /usr/sbin/nginx)\n",
      "/usr/sbin/nginx: /azureml-envs/azureml_20a8278aa8b20dd48cc50f56a6d2586c/lib/libssl.so.1.0.0: no version information available (required by /usr/sbin/nginx)\n",
      "/usr/sbin/nginx: /azureml-envs/azureml_20a8278aa8b20dd48cc50f56a6d2586c/lib/libssl.so.1.0.0: no version information available (required by /usr/sbin/nginx)\n",
      "2021-02-05T11:40:27,228259872+00:00 - rsyslog/run \n",
      "rsyslogd: /azureml-envs/azureml_20a8278aa8b20dd48cc50f56a6d2586c/lib/libuuid.so.1: no version information available (required by rsyslogd)\n",
      "EdgeHubConnectionString and IOTEDGE_IOTHUBHOSTNAME are not set. Exiting...\n",
      "2021-02-05T11:40:27,431652522+00:00 - iot-server/finish 1 0\n",
      "2021-02-05T11:40:27,432946827+00:00 - Exit code 1 is normal. Not restarting iot-server.\n",
      "Starting gunicorn 19.9.0\n",
      "Listening at: http://127.0.0.1:31311 (15)\n",
      "Using worker: sync\n",
      "worker timeout is set to 300\n",
      "Booting worker with pid: 43\n",
      "SPARK_HOME not set. Skipping PySpark Initialization.\n",
      "Generating new fontManager, this may take some time...\n",
      "Initializing logger\n",
      "2021-02-05 11:40:28,601 | root | INFO | Starting up app insights client\n",
      "2021-02-05 11:40:28,602 | root | INFO | Starting up request id generator\n",
      "2021-02-05 11:40:28,602 | root | INFO | Starting up app insight hooks\n",
      "2021-02-05 11:40:28,602 | root | INFO | Invoking user's init function\n",
      "2021-02-05 11:40:31,625 | root | INFO | Users's init has completed successfully\n",
      "2021-02-05 11:40:31,629 | root | INFO | Skipping middleware: dbg_model_info as it's not enabled.\n",
      "2021-02-05 11:40:31,629 | root | INFO | Skipping middleware: dbg_resource_usage as it's not enabled.\n",
      "2021-02-05 11:40:31,631 | root | INFO | Scoring timeout is found from os.environ: 60000 ms\n",
      "2021-02-05 11:40:42,053 | root | INFO | 200\n",
      "127.0.0.1 - - [05/Feb/2021:11:40:42 +0000] \"GET /swagger.json HTTP/1.0\" 200 2911 \"-\" \"Go-http-client/1.1\"\n",
      "2021-02-05 11:40:45,202 | root | INFO | 200\n",
      "127.0.0.1 - - [05/Feb/2021:11:40:45 +0000] \"GET /swagger.json HTTP/1.0\" 200 2911 \"-\" \"Go-http-client/1.1\"\n",
      "\n"
     ]
    }
   ],
   "source": [
    "print(deployed_service.get_logs())"
   ]
  },
  {
   "cell_type": "markdown",
   "metadata": {
    "collapsed": true,
    "gather": {
     "logged": 1598431657736
    },
    "jupyter": {
     "outputs_hidden": false,
     "source_hidden": false
    },
    "nteract": {
     "transient": {
      "deleting": false
     }
    }
   },
   "source": [
    "TODO: In the cell below, send a request to the web service you deployed to test it."
   ]
  },
  {
   "cell_type": "code",
   "execution_count": 89,
   "metadata": {
    "gather": {
     "logged": 1598432707604
    },
    "jupyter": {
     "outputs_hidden": false,
     "source_hidden": false
    },
    "nteract": {
     "transient": {
      "deleting": false
     }
    }
   },
   "outputs": [
    {
     "name": "stdout",
     "output_type": "stream",
     "text": [
      "b'\"{\\\\\"result\\\\\": [1]}\"'\n"
     ]
    }
   ],
   "source": [
    "import urllib.request\n",
    "import json\n",
    "import os\n",
    "import ssl\n",
    "\n",
    "def allowSelfSignedHttps(allowed):\n",
    "    # bypass the server certificate verification on client side\n",
    "    if allowed and not os.environ.get('PYTHONHTTPSVERIFY', '') and getattr(ssl, '_create_unverified_context', None):\n",
    "        ssl._create_default_https_context = ssl._create_unverified_context\n",
    "\n",
    "allowSelfSignedHttps(True) # this line is needed if you use self-signed certificate in your scoring service.\n",
    "\n",
    "data = {\n",
    "    \"data\":\n",
    "    [\n",
    "        {\n",
    "            'Column1': \"0\",\n",
    "            'age': \"75\",\n",
    "            'anaemia': \"2\",\n",
    "            'creatinine_phosphokinase': \"500\",\n",
    "            'diabetes': \"1\",\n",
    "            'ejection_fraction': \"50\",\n",
    "            'high_blood_pressure': \"1\",\n",
    "            'platelets': \"127000\",\n",
    "            'serum_creatinine': \"130\",\n",
    "            'serum_sodium': \"0\",\n",
    "            'sex': \"1\",\n",
    "            'smoking': \"1\",\n",
    "            'time': \"4\",\n",
    "        }\n",
    "    ],\n",
    "}\n",
    "\n",
    "body = str.encode(json.dumps(data))\n",
    "\n",
    "url = 'http://152628f3-a8cb-4116-a091-3f7c2611d3cb.southcentralus.azurecontainer.io/score'\n",
    "api_key = 'btWNaLY4LjCbuARcXgBrluF6bV2AAdGQ' # Replace this with the API key for the web service\n",
    "headers = {'Content-Type':'application/json', 'Authorization':('Bearer '+ api_key)}\n",
    "\n",
    "req = urllib.request.Request(url, body, headers)\n",
    "\n",
    "try:\n",
    "    response = urllib.request.urlopen(req)\n",
    "\n",
    "    result = response.read()\n",
    "    print(result)\n",
    "except urllib.error.HTTPError as error:\n",
    "    print(\"The request failed with status code: \" + str(error.code))\n",
    "\n",
    "    # Print the headers - they include the requert ID and the timestamp, which are useful for debugging the failure\n",
    "    print(error.info())\n",
    "    print(json.loads(error.read().decode(\"utf8\", 'ignore')))"
   ]
  },
  {
   "cell_type": "markdown",
   "metadata": {
    "collapsed": true,
    "gather": {
     "logged": 1598432765711
    },
    "jupyter": {
     "outputs_hidden": false,
     "source_hidden": false
    },
    "nteract": {
     "transient": {
      "deleting": false
     }
    }
   },
   "source": [
    "TODO: In the cell below, print the logs of the web service and delete the service"
   ]
  },
  {
   "cell_type": "code",
   "execution_count": 92,
   "metadata": {
    "jupyter": {
     "outputs_hidden": false,
     "source_hidden": false
    },
    "nteract": {
     "transient": {
      "deleting": false
     }
    }
   },
   "outputs": [
    {
     "name": "stdout",
     "output_type": "stream",
     "text": [
      "No service with name automl-best-model found to delete.\n"
     ]
    }
   ],
   "source": [
    "# delete service\n",
    "deployed_service.delete()"
   ]
  },
  {
   "cell_type": "code",
   "execution_count": null,
   "metadata": {},
   "outputs": [],
   "source": []
  }
 ],
 "metadata": {
  "kernel_info": {
   "name": "python3-azureml"
  },
  "kernelspec": {
   "display_name": "Python 3",
   "language": "python",
   "name": "python3"
  },
  "language_info": {
   "codemirror_mode": {
    "name": "ipython",
    "version": 3
   },
   "file_extension": ".py",
   "mimetype": "text/x-python",
   "name": "python",
   "nbconvert_exporter": "python",
   "pygments_lexer": "ipython3",
   "version": "3.6.9"
  },
  "nteract": {
   "version": "nteract-front-end@1.0.0"
  }
 },
 "nbformat": 4,
 "nbformat_minor": 2
}
